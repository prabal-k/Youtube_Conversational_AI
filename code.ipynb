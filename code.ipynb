{
 "cells": [
  {
   "cell_type": "markdown",
   "id": "189c1345",
   "metadata": {},
   "source": [
    "# System Workflow\n",
    "\n",
    "![Screenshot](./Snapshots/flow_diagram.png)"
   ]
  },
  {
   "cell_type": "markdown",
   "id": "457d2f20",
   "metadata": {},
   "source": [
    "## Step-1 :\n",
    "## Load the Youtube Transcripts based on TimeStamp Chunks"
   ]
  },
  {
   "cell_type": "code",
   "execution_count": 3,
   "id": "3fe9d613",
   "metadata": {},
   "outputs": [
    {
     "data": {
      "text/plain": [
       "True"
      ]
     },
     "execution_count": 3,
     "metadata": {},
     "output_type": "execute_result"
    }
   ],
   "source": [
    "from langchain_community.document_loaders import YoutubeLoader # Load the Youtube Transcript\n",
    "from langchain_community.document_loaders.youtube import TranscriptFormat # To Get transcripts as timestamped chunks\n",
    "from langchain.text_splitter import RecursiveCharacterTextSplitter\n",
    "from dotenv import load_dotenv\n",
    "load_dotenv()"
   ]
  },
  {
   "cell_type": "code",
   "execution_count": 32,
   "id": "21c41f78",
   "metadata": {},
   "outputs": [
    {
     "name": "stdout",
     "output_type": "stream",
     "text": [
      "Successfully loaded 56 transcript chunks\n"
     ]
    }
   ],
   "source": [
    "try:\n",
    "    loader = YoutubeLoader.from_youtube_url(\n",
    "        \"https://www.youtube.com/watch?v=5KLyjoH8uew&t=2954s\",\n",
    "         language=[\"hi\"],\n",
    "         translation=\"en\",\n",
    "        transcript_format=TranscriptFormat.CHUNKS,\n",
    "        chunk_size_seconds=60,\n",
    "    )\n",
    "    docs = loader.load()\n",
    "\n",
    "    if len(docs) == 1:  # If only one chunk was returned\n",
    "        print(\"docs len is 1 so RecCharTextSplit\")\n",
    "        text_splitter = RecursiveCharacterTextSplitter(\n",
    "            chunk_size=1000,  # Adjust based on your needs\n",
    "            chunk_overlap=100,\n",
    "            length_function=len\n",
    "        )\n",
    "        docs = text_splitter.split_documents(docs)\n",
    "\n",
    "    if docs:\n",
    "        print(f\"Successfully loaded {len(docs)} transcript chunks\")\n",
    "    else:\n",
    "        print(\"No transcript data was loaded (empty result)\")\n",
    "\n",
    "except Exception as e:\n",
    "    print(f\"Error loading YouTube transcript: {str(e)}\")\n",
    "    docs = None  \n",
    "\n",
    "if docs:\n",
    "    pass\n",
    "else:\n",
    "    print(\"Failed to load transcript, cannot proceed\")"
   ]
  },
  {
   "cell_type": "code",
   "execution_count": 3,
   "id": "2827201f",
   "metadata": {},
   "outputs": [
    {
     "data": {
      "text/plain": [
       "47"
      ]
     },
     "execution_count": 3,
     "metadata": {},
     "output_type": "execute_result"
    }
   ],
   "source": [
    "len(docs)"
   ]
  },
  {
   "cell_type": "code",
   "execution_count": 33,
   "id": "81b6c89f",
   "metadata": {},
   "outputs": [
    {
     "data": {
      "text/plain": [
       "Document(metadata={'source': 'https://www.youtube.com/watch?v=5KLyjoH8uew&t=120s', 'start_seconds': 120, 'start_timestamp': '00:02:00'}, page_content=\"Whether to build a business in investment or Like updating Aadhaar card and PAN card to do the work of the government whether to learn easy methods of youtubeOn September 1, 2001, when over the US The world's biggest attack was happening At the same time, it was Osama who carried out this attack It was done on the eastern side of Afghanistan There is a mountainous area in me called Khost Sitting there with his bodyguards The entire attack was reported on the BBC Arabic Service I was taking updates of each and every detail and there As soon as this attack happened inside the US, then the attack Same day US Intelligence Agencies Which the CIA, FBI and NSA did without any time The investigation of this entire attack wasted The first thing I do is to All the passengers on board the flight what happened to their passports and visas There were records to be taken out and checked I started and by doing this I made small\")"
      ]
     },
     "execution_count": 33,
     "metadata": {},
     "output_type": "execute_result"
    }
   ],
   "source": [
    "docs[2]"
   ]
  },
  {
   "cell_type": "code",
   "execution_count": 6,
   "id": "73493711",
   "metadata": {},
   "outputs": [
    {
     "name": "stdout",
     "output_type": "stream",
     "text": [
      "{'source': 'https://www.youtube.com/watch?v=J5_-l7WIO_w&t=0s', 'start_seconds': 0, 'start_timestamp': '00:00:00'}\n",
      "Hi guys, my name is Nitesh and you are welcome to my YouTube channel.  In this video also we will continue our lang chain playlist. Uh in the last video, we started studying rag and we focused on discussing the theory around rag.  Did I tell you what rags are?  Why is it needed ?  I also demonstrated comparing racks there using techniques like fine tuning.  And today's video is a continuation of the previous video. Where we will practically create a rag based system using lang chain.  The plan is that I will take a problem statement and create a rig based system around that problem statement and we are going to do all this code in lang chain. So whatever you have read till now in the previous four videos, document loaders, text splitters, vector strings, we will use all these in today's video and using these, we will create a rag base system.  On the whole it's going to be a very interesting video.  Let's\n"
     ]
    }
   ],
   "source": [
    "index= 0\n",
    "print(docs[index].metadata)\n",
    "print(docs[index].page_content)"
   ]
  },
  {
   "cell_type": "markdown",
   "id": "6696921e",
   "metadata": {},
   "source": [
    "## Step-2\n",
    "## Loading the embedding model and the llm"
   ]
  },
  {
   "cell_type": "code",
   "execution_count": 7,
   "id": "3d8eaee0",
   "metadata": {},
   "outputs": [],
   "source": [
    "from langchain_huggingface import HuggingFaceEmbeddings\n",
    "from langchain_community.vectorstores import FAISS"
   ]
  },
  {
   "cell_type": "code",
   "execution_count": 8,
   "id": "dd991188",
   "metadata": {},
   "outputs": [
    {
     "name": "stderr",
     "output_type": "stream",
     "text": [
      "c:\\Users\\Prabal Kuinkel\\Desktop\\Youtube-Conversational_AI\\youtube_ai\\Lib\\site-packages\\tqdm\\auto.py:21: TqdmWarning: IProgress not found. Please update jupyter and ipywidgets. See https://ipywidgets.readthedocs.io/en/stable/user_install.html\n",
      "  from .autonotebook import tqdm as notebook_tqdm\n"
     ]
    }
   ],
   "source": [
    "embedding_model = HuggingFaceEmbeddings(model_name = \"sentence-transformers/all-mpnet-base-v2\")\n",
    "from langchain_huggingface import ChatHuggingFace,HuggingFaceEndpoint\n",
    "from transformers import AutoTokenizer\n",
    "# Initialize a llm model\n",
    "# repo_id = \"mistralai/Mistral-7B-Instruct-v0.3\"\n",
    "# # First load the tokenizer explicitly\n",
    "# tokenizer = AutoTokenizer.from_pretrained(repo_id)\n",
    "# llm1 = HuggingFaceEndpoint(\n",
    "#     repo_id = repo_id,\n",
    "#     temperature = 0.8,\n",
    "#     max_new_tokens=500,\n",
    "# )\n",
    "# llm = ChatHuggingFace(llm=llm1,tokenizer=tokenizer)"
   ]
  },
  {
   "cell_type": "code",
   "execution_count": 9,
   "id": "535bfe5c",
   "metadata": {},
   "outputs": [],
   "source": [
    "# !pip install langchain_groq"
   ]
  },
  {
   "cell_type": "code",
   "execution_count": 10,
   "id": "a9e7101b",
   "metadata": {},
   "outputs": [],
   "source": [
    "from langchain_groq import ChatGroq\n",
    "llm = ChatGroq(model_name = \"Qwen-Qwq-32b\",max_tokens= 4000,model_kwargs={})"
   ]
  },
  {
   "cell_type": "markdown",
   "id": "9f82fda4",
   "metadata": {},
   "source": [
    "## Step-3\n",
    " \n",
    " ## Creating a vectordatabase using the Chroma db\n"
   ]
  },
  {
   "cell_type": "code",
   "execution_count": 11,
   "id": "fc275395",
   "metadata": {},
   "outputs": [],
   "source": [
    "# vector_store = FAISS.from_documents(docs, embedding_model)\n",
    "from langchain_chroma import Chroma\n",
    "vectorstore = Chroma.from_documents(docs, embedding_model)"
   ]
  },
  {
   "cell_type": "code",
   "execution_count": 12,
   "id": "fa1368eb",
   "metadata": {},
   "outputs": [],
   "source": [
    "# !pip install langchain-chroma\n",
    "# !pip install lark"
   ]
  },
  {
   "cell_type": "markdown",
   "id": "7aafda84",
   "metadata": {},
   "source": [
    "## Step-4 Defining the retriever\n",
    "## Using the Metadatabased Filtering for retrievers\n",
    "\n",
    "#### -> this retriever is known as self-query retriever"
   ]
  },
  {
   "cell_type": "code",
   "execution_count": 13,
   "id": "af1fc675",
   "metadata": {},
   "outputs": [
    {
     "name": "stdout",
     "output_type": "stream",
     "text": [
      "{'source': 'https://www.youtube.com/watch?v=J5_-l7WIO_w&t=0s', 'start_seconds': 0, 'start_timestamp': '00:00:00'}\n"
     ]
    }
   ],
   "source": [
    "print(docs[index].metadata)"
   ]
  },
  {
   "cell_type": "code",
   "execution_count": 14,
   "id": "628aa3a6",
   "metadata": {},
   "outputs": [],
   "source": [
    "from langchain.chains.query_constructor.schema import AttributeInfo\n",
    "from langchain.retrievers.self_query.base import SelfQueryRetriever\n",
    "metadata_field_info = [\n",
    "    AttributeInfo(\n",
    "        name=\"source\",\n",
    "        description=\"The link of the video\",\n",
    "        type=\"string\"\n",
    "    ),\n",
    "    AttributeInfo(\n",
    "        name=\"start_seconds\",\n",
    "        description=\"The starting second of the video chunk (in seconds as integer)\",\n",
    "        type=\"integer\"  # Changed from string to integer\n",
    "    ),\n",
    "    AttributeInfo(\n",
    "        name=\"start_timestamp\",\n",
    "        description=\"Human-readable timestamp (HH:MM:SS format)\",\n",
    "        type=\"string\"\n",
    "    )\n",
    "]"
   ]
  },
  {
   "cell_type": "code",
   "execution_count": 15,
   "id": "88fc7ad8",
   "metadata": {},
   "outputs": [],
   "source": [
    "# First get the base retriever from your vectorstore with increased k\n",
    "base_vectorstore_retriever = vectorstore.as_retriever(\n",
    "    # search_type = \"mmr\",\n",
    "    search_kwargs={\"k\": 12,'lambda_mult':0.5}  # Increase this number as needed\n",
    ")"
   ]
  },
  {
   "cell_type": "code",
   "execution_count": 16,
   "id": "f4ae0df0",
   "metadata": {},
   "outputs": [
    {
     "data": {
      "text/plain": [
       "[AttributeInfo(name='source', description='The link of the video', type='string'),\n",
       " AttributeInfo(name='start_seconds', description='The starting second of the video chunk (in seconds as integer)', type='integer'),\n",
       " AttributeInfo(name='start_timestamp', description='Human-readable timestamp (HH:MM:SS format)', type='string')]"
      ]
     },
     "execution_count": 16,
     "metadata": {},
     "output_type": "execute_result"
    }
   ],
   "source": [
    "metadata_field_info"
   ]
  },
  {
   "cell_type": "code",
   "execution_count": 17,
   "id": "7b5d503d",
   "metadata": {},
   "outputs": [],
   "source": [
    "document_content_description = \"Transcript of a youtube video\"\n",
    "retriever = SelfQueryRetriever.from_llm(\n",
    "    llm,\n",
    "    vectorstore,\n",
    "    document_content_description,\n",
    "    metadata_field_info,\n",
    "    # base_retriever = base_vectorstore_retriever,\n",
    "    verbose=True,\n",
    "    search_kwargs={\"k\": 12}  # Increase this number as needed\n",
    "\n",
    ")"
   ]
  },
  {
   "cell_type": "code",
   "execution_count": 18,
   "id": "1d00dbab",
   "metadata": {},
   "outputs": [],
   "source": [
    "# This example only specifies a filter\n",
    "# retriever.invoke(\"Create me a blog post about the video.\")\n",
    "# retriever.invoke(\"what is meant by multi query retriever ?\")"
   ]
  },
  {
   "cell_type": "markdown",
   "id": "e7394ca0",
   "metadata": {},
   "source": [
    "## Step- 5 Creating tools\n",
    "\n",
    "### Tool A. VectorStore Retriever tool (Convert the rag_chain into a tool)\n",
    "Redirect to this tool if the user queries is regarding the Video content\n",
    "\n",
    "### Tool B. DuckDuckSeach Tool\n",
    "Redirect to this tool if the user query is general"
   ]
  },
  {
   "cell_type": "code",
   "execution_count": 19,
   "id": "9f3bb225",
   "metadata": {},
   "outputs": [],
   "source": [
    "from langchain_core.tools import tool\n",
    "from langchain_community.tools import DuckDuckGoSearchRun #Search user queries Online\n",
    "\n",
    "@tool\n",
    "def retriever_vectorstore_tool(query:str)->str:\n",
    "    \"\"\"Use this tool when the user ask about:\n",
    "    - content of the youtube video\n",
    "    - Any queries specifically about the youtube video \n",
    "    - If the user query involves providing summary , or about specific time stamp ,blog etc\n",
    "    Input should be the exact search query.\n",
    "    The tool will perform a vectorstore search using retriever.\"\"\"\n",
    "    return retriever.invoke(query)\n",
    "\n",
    "\n",
    "\n",
    "search = DuckDuckGoSearchRun()\n",
    "@tool\n",
    "def duckducksearch_tool(query: str) -> str:\n",
    "    \"\"\"Use this tool Only when:\n",
    "    - The question is about the current news, affairs etc.\n",
    "    \n",
    "    Input should be the exact search query.\n",
    "    The tool will perform a web search using DuckDuckGo.\n",
    "    \"\"\"\n",
    "    return search.invoke(query)"
   ]
  },
  {
   "cell_type": "markdown",
   "id": "522e1b58",
   "metadata": {},
   "source": [
    "## Step-6 Binding the llm with the tools"
   ]
  },
  {
   "cell_type": "code",
   "execution_count": 20,
   "id": "9144d2c0",
   "metadata": {},
   "outputs": [],
   "source": [
    "tools= [retriever_vectorstore_tool]\n",
    "llm_with_tools=llm.bind_tools(tools=tools)"
   ]
  },
  {
   "cell_type": "markdown",
   "id": "495a3371",
   "metadata": {},
   "source": [
    "## Step-7 Define the langgraph workflow with memory"
   ]
  },
  {
   "cell_type": "markdown",
   "id": "68436115",
   "metadata": {},
   "source": [
    "### Step-7.1 Define the State (flow of information through nodes)"
   ]
  },
  {
   "cell_type": "code",
   "execution_count": 21,
   "id": "88051b42",
   "metadata": {},
   "outputs": [],
   "source": [
    "from typing_extensions import Annotated, TypedDict \n",
    "from typing import List \n",
    "from langchain_core.messages import AnyMessage,HumanMessage,SystemMessage #can be either HumanMsg or AImsg or ToolMsg\n",
    "from langgraph.graph.message import add_messages #Append the new messages insted of replacing\n",
    "\n",
    "\n",
    "class State(TypedDict):\n",
    "    \"\"\"Represents the state of our graph\"\"\"\n",
    "    messages:Annotated[List[AnyMessage],add_messages]"
   ]
  },
  {
   "cell_type": "markdown",
   "id": "d7947b70",
   "metadata": {},
   "source": [
    "### Step-7.2 Define the Graph"
   ]
  },
  {
   "cell_type": "code",
   "execution_count": 22,
   "id": "6f1fb37f",
   "metadata": {},
   "outputs": [],
   "source": [
    "from langgraph.graph import StateGraph, START, END\n",
    " # ToolNode is pre-built component that will invoke/execute the tool in behalf of the user and returns the tool_response\n",
    " # tools_condition is pre-built component that routes to ToolNode if the last message has tool call , otherwise routes to end\n",
    "from langgraph.prebuilt import ToolNode, tools_condition\n",
    "from IPython.display import Image, display #to visualize the Graph\n",
    "from langchain_core.messages import trim_messages # Trim the message and keep past 2 conversation\n",
    "from langgraph.checkpoint.memory import MemorySaver #Implement langgraph memory\n"
   ]
  },
  {
   "cell_type": "markdown",
   "id": "07e1b6a4",
   "metadata": {},
   "source": [
    "#### Step- 7.2.1 \n",
    "#### Implement a ConversationalWindowBuffer Memory using langgraph"
   ]
  },
  {
   "cell_type": "code",
   "execution_count": 23,
   "id": "456b41fc",
   "metadata": {},
   "outputs": [],
   "source": [
    "# A function that determines the best tool to server the user query \n",
    "def tool_calling_llm(State:State)->State:\n",
    "    selected_msg = trim_messages(\n",
    "        State[\"messages\"],\n",
    "        token_counter=len,  # <-- len will simply count the number of messages rather than tokens\n",
    "        max_tokens=10,  # <-- allow up to 10 messages (includes all AI ,human, tool msg : So have context about 2 previous conversations)\n",
    "        strategy=\"last\",\n",
    "        start_on=\"human\",\n",
    "        # Usually, we want to keep the SystemMessage\n",
    "        # if it's present in the original history.\n",
    "        # The SystemMessage has special instructions for the model.\n",
    "        include_system=True,\n",
    "        allow_partial=False,\n",
    "    )\n",
    "    return {'messages':llm_with_tools.invoke(selected_msg)}"
   ]
  },
  {
   "cell_type": "code",
   "execution_count": 24,
   "id": "4aa4b95c",
   "metadata": {},
   "outputs": [
    {
     "data": {
      "text/plain": [
       "tools(tags=None, recurse=True, explode_args=False, func_accepts_config=True, func_accepts={'store': ('__pregel_store', None)}, tools_by_name={'retriever_vectorstore_tool': StructuredTool(name='retriever_vectorstore_tool', description='Use this tool when the user ask about:\\n    - content of the youtube video\\n    - Any queries specifically about the youtube video \\n    - If the user query involves providing summary , or about specific time stamp ,blog etc\\n    Input should be the exact search query.\\n    The tool will perform a vectorstore search using retriever.', args_schema=<class 'langchain_core.utils.pydantic.retriever_vectorstore_tool'>, func=<function retriever_vectorstore_tool at 0x000001420E0BCC20>)}, tool_to_state_args={'retriever_vectorstore_tool': {}}, tool_to_store_arg={'retriever_vectorstore_tool': None}, handle_tool_errors=True, messages_key='messages')"
      ]
     },
     "execution_count": 24,
     "metadata": {},
     "output_type": "execute_result"
    }
   ],
   "source": [
    "tool_node = ToolNode(tools=tools)\n",
    "tool_node"
   ]
  },
  {
   "cell_type": "code",
   "execution_count": 25,
   "id": "423af05d",
   "metadata": {},
   "outputs": [
    {
     "data": {
      "image/png": "[encoded data removed]",
      "text/plain": [
       "<IPython.core.display.Image object>"
      ]
     },
     "metadata": {},
     "output_type": "display_data"
    }
   ],
   "source": [
    "#Initializing the StateGraph\n",
    "builder = StateGraph(state_schema=State)\n",
    "\n",
    "\n",
    "#Adding the nodes\n",
    "builder.add_node('tool_calling_llm',tool_calling_llm) # returns the tools that is to be used\n",
    "builder.add_node('tools',tool_node) # Executes the specified tool\n",
    "\n",
    "#Adding Edges\n",
    "builder.add_edge(START,'tool_calling_llm')\n",
    "builder.add_conditional_edges(\n",
    "    'tool_calling_llm',\n",
    "    # If the latest message from AI is a tool call -> tools_condition routes to tools\n",
    "    # If the latest message from AI is a not a tool call -> tools_condition routes to LLM, then generate final response and END\n",
    "    tools_condition\n",
    ")\n",
    "builder.add_edge('tools','tool_calling_llm')\n",
    "\n",
    "memory = MemorySaver()\n",
    "\n",
    "#Compile the graph\n",
    "graph = builder.compile(\n",
    "    checkpointer=memory\n",
    ")\n",
    "\n",
    "# View\n",
    "display(Image(graph.get_graph().draw_mermaid_png()))\n",
    "\n"
   ]
  },
  {
   "cell_type": "markdown",
   "id": "921f46fd",
   "metadata": {},
   "source": [
    "### Code Explaination / Flow :\n",
    "\n",
    "    1. Starts with calling the 'tool_calling_llm' , which decides which tool is to be used to answer the user query .\n",
    "\n",
    "    2. It is redirected to the 'tools_condition' function , where \n",
    "        \n",
    "        Case I: If the Last 'AI Message' is a tool call ,then 'tools_conditions' automatically routes to 'tool_node' which will executes the specified tool and return the tool_response.\n",
    "\n",
    "        Case II: If the last 'AI Message' is not a tool call, then 'tools_conditions' routes to 'tool_calling_llm' generates the final reponse and route to END\n"
   ]
  },
  {
   "cell_type": "code",
   "execution_count": 26,
   "id": "26b12405",
   "metadata": {},
   "outputs": [
    {
     "name": "stdout",
     "output_type": "stream",
     "text": [
      "a0ec4772-88a1-4530-8559-c3222b3218f5\n"
     ]
    }
   ],
   "source": [
    "# Create a Unique Id for each user conversation\n",
    "import uuid\n",
    "thread_id = uuid.uuid4()\n",
    "print(thread_id)\n",
    "config = {\"configurable\": {\"thread_id\": thread_id}}"
   ]
  },
  {
   "cell_type": "code",
   "execution_count": null,
   "id": "1b2c254b",
   "metadata": {},
   "outputs": [],
   "source": [
    "query = \"What ?\"\n",
    "response = graph.invoke({\n",
    "    'messages': query\n",
    "},config=config)"
   ]
  },
  {
   "cell_type": "code",
   "execution_count": 28,
   "id": "79a27982",
   "metadata": {},
   "outputs": [
    {
     "data": {
      "text/plain": [
       "{'messages': [HumanMessage(content='What is this video about ?', additional_kwargs={}, response_metadata={}, id='130f77f8-58c9-4b39-8331-4ae9d2fb0b99'),\n",
       "  AIMessage(content='', additional_kwargs={'tool_calls': [{'id': 'call_fgpd', 'function': {'arguments': '{\"query\": \"What is this video about?\"}', 'name': 'retriever_vectorstore_tool'}, 'type': 'function'}]}, response_metadata={'token_usage': {'completion_tokens': 201, 'prompt_tokens': 222, 'total_tokens': 423, 'completion_time': 0.467952208, 'prompt_time': 0.016661285, 'queue_time': 0.055607237000000004, 'total_time': 0.484613493}, 'model_name': 'Qwen-Qwq-32b', 'system_fingerprint': 'fp_07cd5d759a', 'finish_reason': 'tool_calls', 'logprobs': None}, id='run-9a1de5b8-0a1f-4ff2-aeab-9fbd8423d20f-0', tool_calls=[{'name': 'retriever_vectorstore_tool', 'args': {'query': 'What is this video about?'}, 'id': 'call_fgpd', 'type': 'tool_call'}], usage_metadata={'input_tokens': 222, 'output_tokens': 201, 'total_tokens': 423}),\n",
       "  ToolMessage(content='[Document(id=\\'8f2cf85f-058a-4e01-9cda-2298dab0ab58\\', metadata={\\'source\\': \\'https://www.youtube.com/watch?v=J5_-l7WIO_w&t=780s\\', \\'start_seconds\\': 780, \\'start_timestamp\\': \\'00:13:00\\'}, page_content=\\'getting a big string like this.  In which the complete transcript of your entire video is visible to you at once.  Ok?  A so this function is not as it is a function. You have to run this chunk of code as it is.  Let me show you a couple of more videos. Like this is our rag video.  If you put this here and run it. So now an error will come here.  See what error is coming?  I will read it for you. Here it shows that the video we have just chosen does not have an English transcript.  And this is a logical thing. Our videos are in Hindi. That is why English transcript is not available.  So what can you do?   You can quickly go here and write Hindi instead of English.  And now as soon as you run this code, look guys the Hindi transcript has been loaded which you will see in our video.  If you turn on captions. Ok?  A I hope you are understanding roughly.  A what I will do is I will be\\'), Document(id=\\'bd3088b9-6837-42f9-ab77-f3efa6e78aa0\\', metadata={\\'source\\': \\'https://www.youtube.com/watch?v=J5_-l7WIO_w&t=1260s\\', \\'start_seconds\\': 1260, \\'start_timestamp\\': \\'00:21:00\\'}, page_content=\"in our prompt.  So what do we have to do?   The page content inside these four documents , basically this entire string, will have to be concatenated.  So what we are doing is we are writing a custom code where what are we doing? Going to every document.  People are picking up his page content and joining him. Basically we\\'re creating a bigger string. Ok?  So if I show you what that big string or context looks like after this step.  So this is the output.  Ok?  A, this has been trimmed actually.  But this is a very big text.  Ok?  So now I have both things.  I already have my question. Now I also have a much bigger context.  So, I had this thing. Now this has also come.  I also converted it into string format.  Now what we can do is we can invoke prompt. And in invoke we will have to provide two things. First, we will have to give our context.  So the context is this big\"), Document(id=\\'6126297d-d35d-41c2-bc2b-7fbe20c12fd5\\', metadata={\\'source\\': \\'https://www.youtube.com/watch?v=J5_-l7WIO_w&t=120s\\', \\'start_seconds\\': 120, \\'start_timestamp\\': \\'00:02:00\\'}, page_content=\\'?  So, I will quickly put a question in our system and my rack based system will quickly reply to me that yes, in this particular video, AI has been discussed and these are key pointers.  Ok?   Can I quickly ask you if you can summarize this entire video in five bullet points?  So, this rack base system of mine will instantly create a summary of the entire video and give it to me.  Tomorrow, if you are watching a lecture on data science and suddenly you have a doubt in some part, then you will quickly enter that doubt in this system and this system will solve that doubt for you. So basically this is a chat system with the help of which you can ask whatever you want about any YouTube video. So I am pretty sure you all will be able to relate to what problem this system is solving. And that is why I thought this could be a very good problem statement for us.  This\\'), Document(id=\\'0a0948c7-ffdd-47f5-98ae-b4b357cbc698\\', metadata={\\'source\\': \\'https://www.youtube.com/watch?v=J5_-l7WIO_w&t=1320s\\', \\'start_seconds\\': 1320, \\'start_timestamp\\': \\'00:22:00\\'}, page_content=\"string that you see on the screen. And the question which we had above. Ok?  And we will call this final process.  Ok ?  So if I can show you the final plan, look like this.  You are a helpful assistant answers only from the provider in the transcript context.  A: The context starts from here.  Ok?  And finally here comes our question. So, we\\'re going to send this whole thing that you see on the screen right now to our LLM.  Ok?  So we have completed this step also.  This part is also done with argumentation.  Now the last step remains where we will do the generation. So what do you have to do in the last step ?  Simply the LLM you created above.  Ok?  It has to be invoked.  And you have to send your final form there.  After turning around you will get an answer.\"), Document(id=\\'9bba3692-3fde-4527-bf77-249d35f5df62\\', metadata={\\'source\\': \\'https://www.youtube.com/watch?v=J5_-l7WIO_w&t=60s\\', \\'start_seconds\\': 60, \\'start_timestamp\\': \\'00:01:00\\'}, page_content=\"start.  So come on guys, first let\\'s talk about the problem statement.  What are we going to make in this video?  So we will work on a very simple yet very important problem statement.  And the name of our problem statement is YouTube Chat.  I don\\'t know may be YouTube chat could be a good name.  So basically what we are going to do is we are going to create a rag base system with the help of which you can chat with any YouTube video in real time. Ok?  So we all watch videos on YouTube.  Right?  Some videos are very long.  Like especially if you are watching any podcast etc. then it is two to three hours in length.   The problem is that if you want to understand the entire content of that video then you will have to watch the entire video.  Our solution solves this problem for you. For example, let’s say I’m watching a podcast which is 3 hours long.   Let me assume, there was a question about that podcast, whether AI is being discussed in this podcast\"), Document(id=\\'4cd4d6cc-a7dc-49b0-9489-c9bf98cb10ec\\', metadata={\\'source\\': \\'https://www.youtube.com/watch?v=J5_-l7WIO_w&t=960s\\', \\'start_seconds\\': 960, \\'start_timestamp\\': \\'00:16:00\\'}, page_content=\"convert all these chunks into vectors and store those vectors in a vector store.  So for that I\\'m going to use fi vector store. So what did we do first?  We chose an embedding model which is a model from Open AI Embeddings.  We\\'re using this model a and we\\'re using fires vector store. And we provided all our chunks there.  And our embedding model was provided and we ran it.  So if you see at this point, an ID has been generated against each chunk and with this ID, those chunks have been embedded and stored in our vector store. So in total there are 168 chunks.  If you want to see a particular chunk, you can quickly enter its ID in this function and check how that chunk looks.  So this is the last chunk.  Ok?  So we have completed this step also.  So basically\"), Document(id=\\'c5b4bbf9-1524-46d0-bb5d-27e239de0713\\', metadata={\\'source\\': \\'https://www.youtube.com/watch?v=J5_-l7WIO_w&t=1380s\\', \\'start_seconds\\': 1380, \\'start_timestamp\\': \\'00:23:00\\'}, page_content=\"If you print that answer directly then you will get something like this.  LLM is not defined.  Maybe I didn\\'t do the above cell run.  Let me run this. And again we run this code. Ok?  So you can see yes the topic of aliens was discussed.  The Speaker expresses their personal opinion on whatever is presented. And after this I am getting a lot of other meta data. If I want just the string I will fetch the content and here is my answer.  Ok?  Here is my ans. So now this part is also working. Generation is also happening.  Ok?  You can try out different questions. Like you can ask is the topic of nuclear fuse discussed in this video?  If yes then what was discussed?  Since I have watched this video , I know these topics have been discussed.  Again we are running the same code.\"), Document(id=\\'d2ba527f-0663-4836-a23b-c0fef77709e9\\', metadata={\\'source\\': \\'https://www.youtube.com/watch?v=J5_-l7WIO_w&t=240s\\', \\'start_seconds\\': 240, \\'start_timestamp\\': \\'00:04:00\\'}, page_content=\"work with tools like Streamlet. Ok?  A but since today we\\'re going to focus on rag so I\\'m not going to focus too much on the UI right now.  I would focus more on functionality. And that is why whatever we create will be created inside a Google Collab Notebook. But I would recommend that once you try and run this project in Google Collab, then definitely you should try and build a UI around this project. What will happen with this?  Your project will look a little nicer.  It will become a little more usable. Ok?  So in a nutshell this is the problem statement that we are targeting and we are going to build a rack system that will solve this problem statement. Ok?  Next I will discuss the exact plan of action on how we will solve this problem statement?  Now the interesting thing is that to make this project, we will use exactly the same flow that we discussed in the last video.\"), Document(id=\\'773017a6-f1c3-4d8a-83e5-7b8daebe8927\\', metadata={\\'source\\': \\'https://www.youtube.com/watch?v=J5_-l7WIO_w&t=1980s\\', \\'start_seconds\\': 1980, \\'start_timestamp\\': \\'00:33:00\\'}, page_content=\\'use a variety of techniques. So I just want to give you a little flavour of how we can improve a simple rack system to the point where it can operate at an industry grade level. Ok?  So what I will do is I will suggest you some improvements from my side.  And I have divided all these improvements into categories.  Ok? So the first category is that we can make some UI based enhancements to our Simple Rack system.  At this point, our rig is running inside of a Google CoLab notebook.  Where the user has to go manually and provide the video ID. All the sales have to be run. Then he gets the answers to his questions. Obviously a finished product, a complete product, will not work this way.  So what can we do ?  We can improve our code in such a way that the final product appears in the form of a website.\\'), Document(id=\\'bfacfd76-dc13-4a48-8893-d94a88c489b1\\', metadata={\\'source\\': \\'https://www.youtube.com/watch?v=J5_-l7WIO_w&t=840s\\', \\'start_seconds\\': 840, \\'start_timestamp\\': \\'00:14:00\\'}, page_content=\"using the transcript of this podcast in the process of creating this project.  This is around a 2 hour podcast. So we will ask questions from this podcast later on.  Ok?  By the way, if you have not seen this video, please watch it whatever screen is on it.  It\\'s a very very good video.  A so what I will do is I will paste it here and here I will write the language as English.  Ok ?  So now I have the complete transcript of this 2 hour video. Ok ?  And he is currently standing in this variable. Right?  So we have completed this step one. We can bring the transcript from the YouTube video into our code.  Have been able to bring it.  Ok?  Now we come to step two.  What do we need to do in step two ?  Since this is our transcript, it is the transcript of a 2 hour video. So, obviously it will be very long.  We have to divide it into small chunks.\"), Document(id=\\'7eda909e-51af-44db-b3eb-ab846c012740\\', metadata={\\'source\\': \\'https://www.youtube.com/watch?v=J5_-l7WIO_w&t=720s\\', \\'start_seconds\\': 720, \\'start_timestamp\\': \\'00:12:00\\'}, page_content=\"Look at this.  Right now you can see this thing on top of the video.  Now it will come after 7 seconds and will remain on the screen for 5 seconds. Ok?  Then when I play the video further, after some time the next line will be loaded.  This one supposes you also have this magical power machine, whatever it is. Hey look at this.  Ok?  This will come at 13 seconds and will remain on the screen for 3 seconds.  So basically this API is loading your transcript sentence by sentence, that is, which sentence will appear next in the subtitle after one sentence. Now what we have to do is that first we have to join all these sentences which are currently broken. So that\\'s what I did.  I\\'ve run a loop over it and basically called the join function and we\\'ve concatenated that whole string, kind of combined it. Due to which finally you are\"), Document(id=\\'d1570c1c-b340-40d6-b35f-c592b7bb41e6\\', metadata={\\'source\\': \\'https://www.youtube.com/watch?v=J5_-l7WIO_w&t=0s\\', \\'start_seconds\\': 0, \\'start_timestamp\\': \\'00:00:00\\'}, page_content=\"Hi guys, my name is Nitesh and you are welcome to my YouTube channel.  In this video also we will continue our lang chain playlist. Uh in the last video, we started studying rag and we focused on discussing the theory around rag.  Did I tell you what rags are?  Why is it needed ?  I also demonstrated comparing racks there using techniques like fine tuning.  And today\\'s video is a continuation of the previous video. Where we will practically create a rag based system using lang chain.  The plan is that I will take a problem statement and create a rig based system around that problem statement and we are going to do all this code in lang chain. So whatever you have read till now in the previous four videos, document loaders, text splitters, vector strings, we will use all these in today\\'s video and using these, we will create a rag base system.  On the whole it\\'s going to be a very interesting video.  Let\\'s\")]', name='retriever_vectorstore_tool', id='95932fab-73f5-4193-8987-a8fbfd586205', tool_call_id='call_fgpd'),\n",
       "  AIMessage(content='The YouTube video is about building a **RAG (Retrieval-Augmented Generation)-based chat system** using **LangChain** to interact with YouTube videos. Here\\'s a summary of its content:\\n\\n### **Main Focus**:\\n- Creating a **YouTube Chat Application** where users can ask questions about a video\\'s content (e.g., \"Was AI discussed in this video?\") and get answers without watching the entire video.\\n\\n### **Key Steps Demonstrated**:\\n1. **Transcript Extraction**:  \\n   - Fetching the transcript of a YouTube video (e.g., a 2-hour podcast) using APIs and handling language settings (e.g., switching from English to Hindi if needed).\\n   - Merging fragmented transcript segments into a single coherent text.\\n\\n2. **Text Processing**:  \\n   - Splitting the transcript into smaller chunks using text splitters.\\n   - Storing these chunks in a **vector database** (using `FAISS`) with embeddings generated via OpenAI’s model.\\n\\n3. **Query Handling**:  \\n   - Users input a question, which is converted into an embedding.\\n   - The system retrieves the most relevant transcript chunks from the vector database.\\n   - An LLM (Large Language Model) uses the retrieved context to generate an answer.\\n\\n4. **Code Implementation**:  \\n   - Step-by-step coding in Google Colab, including handling errors (e.g., missing transcripts, embedding configurations).\\n   - Final demo showing the system answering questions like, *\"Summarize this video in 5 bullet points\"* or checking if specific topics (e.g., \"aliens\" or \"nuclear fusion\") were discussed.\\n\\n### **Enhancements Discussed**:\\n- **UI Improvements**: Building a web interface (using Streamlit) for a user-friendly experience.\\n- **Performance Optimizations**: Caching transcripts, improving chunking logic, and refining answers with metadata.\\n\\n### **Toolchain**:\\n- **LangChain** components: Document Loaders, Text Splitters, VectorStores, and LLMs.\\n- Libraries like `pytube` for downloading transcripts and `openai` for embeddings.\\n\\nThe video is part of a playlist teaching advanced LangChain applications and aims to make complex videos (e.g., long podcasts) more interactive and searchable.', additional_kwargs={}, response_metadata={'token_usage': {'completion_tokens': 996, 'prompt_tokens': 3728, 'total_tokens': 4724, 'completion_time': 2.24764547, 'prompt_time': 0.253860904, 'queue_time': 0.083903053, 'total_time': 2.501506374}, 'model_name': 'Qwen-Qwq-32b', 'system_fingerprint': 'fp_07cd5d759a', 'finish_reason': 'stop', 'logprobs': None}, id='run-d31f3cc6-8bc1-46c3-aa71-7737740b94f9-0', usage_metadata={'input_tokens': 3728, 'output_tokens': 996, 'total_tokens': 4724})]}"
      ]
     },
     "execution_count": 28,
     "metadata": {},
     "output_type": "execute_result"
    }
   ],
   "source": [
    "response"
   ]
  },
  {
   "cell_type": "code",
   "execution_count": 29,
   "id": "f8687288",
   "metadata": {},
   "outputs": [
    {
     "name": "stdout",
     "output_type": "stream",
     "text": [
      "================================\u001b[1m Human Message \u001b[0m=================================\n",
      "\n",
      "What is this video about ?\n",
      "==================================\u001b[1m Ai Message \u001b[0m==================================\n",
      "Tool Calls:\n",
      "  retriever_vectorstore_tool (call_fgpd)\n",
      " Call ID: call_fgpd\n",
      "  Args:\n",
      "    query: What is this video about?\n",
      "=================================\u001b[1m Tool Message \u001b[0m=================================\n",
      "Name: retriever_vectorstore_tool\n",
      "\n",
      "[Document(id='8f2cf85f-058a-4e01-9cda-2298dab0ab58', metadata={'source': 'https://www.youtube.com/watch?v=J5_-l7WIO_w&t=780s', 'start_seconds': 780, 'start_timestamp': '00:13:00'}, page_content='getting a big string like this.  In which the complete transcript of your entire video is visible to you at once.  Ok?  A so this function is not as it is a function. You have to run this chunk of code as it is.  Let me show you a couple of more videos. Like this is our rag video.  If you put this here and run it. So now an error will come here.  See what error is coming?  I will read it for you. Here it shows that the video we have just chosen does not have an English transcript.  And this is a logical thing. Our videos are in Hindi. That is why English transcript is not available.  So what can you do?   You can quickly go here and write Hindi instead of English.  And now as soon as you run this code, look guys the Hindi transcript has been loaded which you will see in our video.  If you turn on captions. Ok?  A I hope you are understanding roughly.  A what I will do is I will be'), Document(id='bd3088b9-6837-42f9-ab77-f3efa6e78aa0', metadata={'source': 'https://www.youtube.com/watch?v=J5_-l7WIO_w&t=1260s', 'start_seconds': 1260, 'start_timestamp': '00:21:00'}, page_content=\"in our prompt.  So what do we have to do?   The page content inside these four documents , basically this entire string, will have to be concatenated.  So what we are doing is we are writing a custom code where what are we doing? Going to every document.  People are picking up his page content and joining him. Basically we're creating a bigger string. Ok?  So if I show you what that big string or context looks like after this step.  So this is the output.  Ok?  A, this has been trimmed actually.  But this is a very big text.  Ok?  So now I have both things.  I already have my question. Now I also have a much bigger context.  So, I had this thing. Now this has also come.  I also converted it into string format.  Now what we can do is we can invoke prompt. And in invoke we will have to provide two things. First, we will have to give our context.  So the context is this big\"), Document(id='6126297d-d35d-41c2-bc2b-7fbe20c12fd5', metadata={'source': 'https://www.youtube.com/watch?v=J5_-l7WIO_w&t=120s', 'start_seconds': 120, 'start_timestamp': '00:02:00'}, page_content='?  So, I will quickly put a question in our system and my rack based system will quickly reply to me that yes, in this particular video, AI has been discussed and these are key pointers.  Ok?   Can I quickly ask you if you can summarize this entire video in five bullet points?  So, this rack base system of mine will instantly create a summary of the entire video and give it to me.  Tomorrow, if you are watching a lecture on data science and suddenly you have a doubt in some part, then you will quickly enter that doubt in this system and this system will solve that doubt for you. So basically this is a chat system with the help of which you can ask whatever you want about any YouTube video. So I am pretty sure you all will be able to relate to what problem this system is solving. And that is why I thought this could be a very good problem statement for us.  This'), Document(id='0a0948c7-ffdd-47f5-98ae-b4b357cbc698', metadata={'source': 'https://www.youtube.com/watch?v=J5_-l7WIO_w&t=1320s', 'start_seconds': 1320, 'start_timestamp': '00:22:00'}, page_content=\"string that you see on the screen. And the question which we had above. Ok?  And we will call this final process.  Ok ?  So if I can show you the final plan, look like this.  You are a helpful assistant answers only from the provider in the transcript context.  A: The context starts from here.  Ok?  And finally here comes our question. So, we're going to send this whole thing that you see on the screen right now to our LLM.  Ok?  So we have completed this step also.  This part is also done with argumentation.  Now the last step remains where we will do the generation. So what do you have to do in the last step ?  Simply the LLM you created above.  Ok?  It has to be invoked.  And you have to send your final form there.  After turning around you will get an answer.\"), Document(id='9bba3692-3fde-4527-bf77-249d35f5df62', metadata={'source': 'https://www.youtube.com/watch?v=J5_-l7WIO_w&t=60s', 'start_seconds': 60, 'start_timestamp': '00:01:00'}, page_content=\"start.  So come on guys, first let's talk about the problem statement.  What are we going to make in this video?  So we will work on a very simple yet very important problem statement.  And the name of our problem statement is YouTube Chat.  I don't know may be YouTube chat could be a good name.  So basically what we are going to do is we are going to create a rag base system with the help of which you can chat with any YouTube video in real time. Ok?  So we all watch videos on YouTube.  Right?  Some videos are very long.  Like especially if you are watching any podcast etc. then it is two to three hours in length.   The problem is that if you want to understand the entire content of that video then you will have to watch the entire video.  Our solution solves this problem for you. For example, let’s say I’m watching a podcast which is 3 hours long.   Let me assume, there was a question about that podcast, whether AI is being discussed in this podcast\"), Document(id='4cd4d6cc-a7dc-49b0-9489-c9bf98cb10ec', metadata={'source': 'https://www.youtube.com/watch?v=J5_-l7WIO_w&t=960s', 'start_seconds': 960, 'start_timestamp': '00:16:00'}, page_content=\"convert all these chunks into vectors and store those vectors in a vector store.  So for that I'm going to use fi vector store. So what did we do first?  We chose an embedding model which is a model from Open AI Embeddings.  We're using this model a and we're using fires vector store. And we provided all our chunks there.  And our embedding model was provided and we ran it.  So if you see at this point, an ID has been generated against each chunk and with this ID, those chunks have been embedded and stored in our vector store. So in total there are 168 chunks.  If you want to see a particular chunk, you can quickly enter its ID in this function and check how that chunk looks.  So this is the last chunk.  Ok?  So we have completed this step also.  So basically\"), Document(id='c5b4bbf9-1524-46d0-bb5d-27e239de0713', metadata={'source': 'https://www.youtube.com/watch?v=J5_-l7WIO_w&t=1380s', 'start_seconds': 1380, 'start_timestamp': '00:23:00'}, page_content=\"If you print that answer directly then you will get something like this.  LLM is not defined.  Maybe I didn't do the above cell run.  Let me run this. And again we run this code. Ok?  So you can see yes the topic of aliens was discussed.  The Speaker expresses their personal opinion on whatever is presented. And after this I am getting a lot of other meta data. If I want just the string I will fetch the content and here is my answer.  Ok?  Here is my ans. So now this part is also working. Generation is also happening.  Ok?  You can try out different questions. Like you can ask is the topic of nuclear fuse discussed in this video?  If yes then what was discussed?  Since I have watched this video , I know these topics have been discussed.  Again we are running the same code.\"), Document(id='d2ba527f-0663-4836-a23b-c0fef77709e9', metadata={'source': 'https://www.youtube.com/watch?v=J5_-l7WIO_w&t=240s', 'start_seconds': 240, 'start_timestamp': '00:04:00'}, page_content=\"work with tools like Streamlet. Ok?  A but since today we're going to focus on rag so I'm not going to focus too much on the UI right now.  I would focus more on functionality. And that is why whatever we create will be created inside a Google Collab Notebook. But I would recommend that once you try and run this project in Google Collab, then definitely you should try and build a UI around this project. What will happen with this?  Your project will look a little nicer.  It will become a little more usable. Ok?  So in a nutshell this is the problem statement that we are targeting and we are going to build a rack system that will solve this problem statement. Ok?  Next I will discuss the exact plan of action on how we will solve this problem statement?  Now the interesting thing is that to make this project, we will use exactly the same flow that we discussed in the last video.\"), Document(id='773017a6-f1c3-4d8a-83e5-7b8daebe8927', metadata={'source': 'https://www.youtube.com/watch?v=J5_-l7WIO_w&t=1980s', 'start_seconds': 1980, 'start_timestamp': '00:33:00'}, page_content='use a variety of techniques. So I just want to give you a little flavour of how we can improve a simple rack system to the point where it can operate at an industry grade level. Ok?  So what I will do is I will suggest you some improvements from my side.  And I have divided all these improvements into categories.  Ok? So the first category is that we can make some UI based enhancements to our Simple Rack system.  At this point, our rig is running inside of a Google CoLab notebook.  Where the user has to go manually and provide the video ID. All the sales have to be run. Then he gets the answers to his questions. Obviously a finished product, a complete product, will not work this way.  So what can we do ?  We can improve our code in such a way that the final product appears in the form of a website.'), Document(id='bfacfd76-dc13-4a48-8893-d94a88c489b1', metadata={'source': 'https://www.youtube.com/watch?v=J5_-l7WIO_w&t=840s', 'start_seconds': 840, 'start_timestamp': '00:14:00'}, page_content=\"using the transcript of this podcast in the process of creating this project.  This is around a 2 hour podcast. So we will ask questions from this podcast later on.  Ok?  By the way, if you have not seen this video, please watch it whatever screen is on it.  It's a very very good video.  A so what I will do is I will paste it here and here I will write the language as English.  Ok ?  So now I have the complete transcript of this 2 hour video. Ok ?  And he is currently standing in this variable. Right?  So we have completed this step one. We can bring the transcript from the YouTube video into our code.  Have been able to bring it.  Ok?  Now we come to step two.  What do we need to do in step two ?  Since this is our transcript, it is the transcript of a 2 hour video. So, obviously it will be very long.  We have to divide it into small chunks.\"), Document(id='7eda909e-51af-44db-b3eb-ab846c012740', metadata={'source': 'https://www.youtube.com/watch?v=J5_-l7WIO_w&t=720s', 'start_seconds': 720, 'start_timestamp': '00:12:00'}, page_content=\"Look at this.  Right now you can see this thing on top of the video.  Now it will come after 7 seconds and will remain on the screen for 5 seconds. Ok?  Then when I play the video further, after some time the next line will be loaded.  This one supposes you also have this magical power machine, whatever it is. Hey look at this.  Ok?  This will come at 13 seconds and will remain on the screen for 3 seconds.  So basically this API is loading your transcript sentence by sentence, that is, which sentence will appear next in the subtitle after one sentence. Now what we have to do is that first we have to join all these sentences which are currently broken. So that's what I did.  I've run a loop over it and basically called the join function and we've concatenated that whole string, kind of combined it. Due to which finally you are\"), Document(id='d1570c1c-b340-40d6-b35f-c592b7bb41e6', metadata={'source': 'https://www.youtube.com/watch?v=J5_-l7WIO_w&t=0s', 'start_seconds': 0, 'start_timestamp': '00:00:00'}, page_content=\"Hi guys, my name is Nitesh and you are welcome to my YouTube channel.  In this video also we will continue our lang chain playlist. Uh in the last video, we started studying rag and we focused on discussing the theory around rag.  Did I tell you what rags are?  Why is it needed ?  I also demonstrated comparing racks there using techniques like fine tuning.  And today's video is a continuation of the previous video. Where we will practically create a rag based system using lang chain.  The plan is that I will take a problem statement and create a rig based system around that problem statement and we are going to do all this code in lang chain. So whatever you have read till now in the previous four videos, document loaders, text splitters, vector strings, we will use all these in today's video and using these, we will create a rag base system.  On the whole it's going to be a very interesting video.  Let's\")]\n",
      "==================================\u001b[1m Ai Message \u001b[0m==================================\n",
      "\n",
      "The YouTube video is about building a **RAG (Retrieval-Augmented Generation)-based chat system** using **LangChain** to interact with YouTube videos. Here's a summary of its content:\n",
      "\n",
      "### **Main Focus**:\n",
      "- Creating a **YouTube Chat Application** where users can ask questions about a video's content (e.g., \"Was AI discussed in this video?\") and get answers without watching the entire video.\n",
      "\n",
      "### **Key Steps Demonstrated**:\n",
      "1. **Transcript Extraction**:  \n",
      "   - Fetching the transcript of a YouTube video (e.g., a 2-hour podcast) using APIs and handling language settings (e.g., switching from English to Hindi if needed).\n",
      "   - Merging fragmented transcript segments into a single coherent text.\n",
      "\n",
      "2. **Text Processing**:  \n",
      "   - Splitting the transcript into smaller chunks using text splitters.\n",
      "   - Storing these chunks in a **vector database** (using `FAISS`) with embeddings generated via OpenAI’s model.\n",
      "\n",
      "3. **Query Handling**:  \n",
      "   - Users input a question, which is converted into an embedding.\n",
      "   - The system retrieves the most relevant transcript chunks from the vector database.\n",
      "   - An LLM (Large Language Model) uses the retrieved context to generate an answer.\n",
      "\n",
      "4. **Code Implementation**:  \n",
      "   - Step-by-step coding in Google Colab, including handling errors (e.g., missing transcripts, embedding configurations).\n",
      "   - Final demo showing the system answering questions like, *\"Summarize this video in 5 bullet points\"* or checking if specific topics (e.g., \"aliens\" or \"nuclear fusion\") were discussed.\n",
      "\n",
      "### **Enhancements Discussed**:\n",
      "- **UI Improvements**: Building a web interface (using Streamlit) for a user-friendly experience.\n",
      "- **Performance Optimizations**: Caching transcripts, improving chunking logic, and refining answers with metadata.\n",
      "\n",
      "### **Toolchain**:\n",
      "- **LangChain** components: Document Loaders, Text Splitters, VectorStores, and LLMs.\n",
      "- Libraries like `pytube` for downloading transcripts and `openai` for embeddings.\n",
      "\n",
      "The video is part of a playlist teaching advanced LangChain applications and aims to make complex videos (e.g., long podcasts) more interactive and searchable.\n"
     ]
    }
   ],
   "source": [
    "for msg in response['messages']:\n",
    "    msg.pretty_print()"
   ]
  }
 ],
 "metadata": {
  "kernelspec": {
   "display_name": "youtube_ai",
   "language": "python",
   "name": "python3"
  },
  "language_info": {
   "codemirror_mode": {
    "name": "ipython",
    "version": 3
   },
   "file_extension": ".py",
   "mimetype": "text/x-python",
   "name": "python",
   "nbconvert_exporter": "python",
   "pygments_lexer": "ipython3",
   "version": "3.11.7"
  }
 },
 "nbformat": 4,
 "nbformat_minor": 5
}
