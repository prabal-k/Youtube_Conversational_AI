{
 "cells": [
  {
   "cell_type": "markdown",
   "id": "189c1345",
   "metadata": {},
   "source": [
    "# System Workflow\n",
    "\n",
    "![Screenshot](./Snapshots/flow_diagram.png)"
   ]
  },
  {
   "cell_type": "markdown",
   "id": "457d2f20",
   "metadata": {},
   "source": [
    "## Step-1 :\n",
    "## Load the Youtube Transcripts based on TimeStamp Chunks"
   ]
  },
  {
   "cell_type": "code",
   "execution_count": 1,
   "id": "3fe9d613",
   "metadata": {},
   "outputs": [
    {
     "data": {
      "text/plain": [
       "True"
      ]
     },
     "execution_count": 1,
     "metadata": {},
     "output_type": "execute_result"
    }
   ],
   "source": [
    "from langchain_community.document_loaders import YoutubeLoader # Load the Youtube Transcript\n",
    "from langchain_community.document_loaders.youtube import TranscriptFormat # To Get transcripts as timestamped chunks\n",
    "from dotenv import load_dotenv\n",
    "load_dotenv()"
   ]
  },
  {
   "cell_type": "code",
   "execution_count": 2,
   "id": "21c41f78",
   "metadata": {},
   "outputs": [
    {
     "name": "stdout",
     "output_type": "stream",
     "text": [
      "Successfully loaded 60 transcript chunks\n"
     ]
    }
   ],
   "source": [
    "try:\n",
    "    loader = YoutubeLoader.from_youtube_url(\n",
    "        \"https://www.youtube.com/watch?v=LLEc_fqEk_k&t=1554s\",\n",
    "         language=[\"hi\"],\n",
    "         translation=\"en\",\n",
    "        transcript_format=TranscriptFormat.CHUNKS,\n",
    "        chunk_size_seconds=60,\n",
    "    )\n",
    "    docs = loader.load()\n",
    "\n",
    "    if docs:\n",
    "        print(f\"Successfully loaded {len(docs)} transcript chunks\")\n",
    "    else:\n",
    "        print(\"No transcript data was loaded (empty result)\")\n",
    "\n",
    "except Exception as e:\n",
    "    print(f\"Error loading YouTube transcript: {str(e)}\")\n",
    "    docs = None  \n",
    "\n",
    "if docs:\n",
    "    pass\n",
    "else:\n",
    "    print(\"Failed to load transcript, cannot proceed\")"
   ]
  },
  {
   "cell_type": "code",
   "execution_count": 3,
   "id": "2827201f",
   "metadata": {},
   "outputs": [
    {
     "data": {
      "text/plain": [
       "60"
      ]
     },
     "execution_count": 3,
     "metadata": {},
     "output_type": "execute_result"
    }
   ],
   "source": [
    "len(docs)"
   ]
  },
  {
   "cell_type": "code",
   "execution_count": 4,
   "id": "deab689d",
   "metadata": {},
   "outputs": [
    {
     "data": {
      "text/plain": [
       "Document(metadata={'source': 'https://www.youtube.com/watch?v=LLEc_fqEk_k&t=0s', 'start_seconds': 0, 'start_timestamp': '00:00:00'}, page_content=\"Tarak Mehta Ka Ooltah Chashma Papa it is getting very late.  Brother brother brother brother tapora show the report cut wait hey. Ke papa's stop the knife, hey stop if not then Jetha ji hi baba oh\")"
      ]
     },
     "execution_count": 4,
     "metadata": {},
     "output_type": "execute_result"
    }
   ],
   "source": [
    "docs[0]"
   ]
  },
  {
   "cell_type": "code",
   "execution_count": 5,
   "id": "81b6c89f",
   "metadata": {},
   "outputs": [
    {
     "data": {
      "text/plain": [
       "Document(metadata={'source': 'https://www.youtube.com/watch?v=LLEc_fqEk_k&t=120s', 'start_seconds': 120, 'start_timestamp': '00:02:00'}, page_content=\"don't forget to have tea and breakfast before leaving.  If they go to the shop like this, then on an empty stomach, Natu Kaka, Baka Bhai and whoever they meet will keep on feeding them Badka the whole day. Yes brother, yes I am coming, go inside now. Yes Babita ji bye bye. And Babita ji, where are you jogging?  Yes.  By the way Jetha ji, you should also start regular jogging. Look, you ran so much and you were so half-fed.  Meaning you have no stamina at all.  If you do regular jogging then you will see that gradually your stamina will build up like this.  No, definitely, definitely.  I was going to start jogging in a day or two anyway. And I was going to ask you the secret of staying fit and healthy, which herbal thing do you eat? From the first time I saw you till today, you look the same.\")"
      ]
     },
     "execution_count": 5,
     "metadata": {},
     "output_type": "execute_result"
    }
   ],
   "source": [
    "docs[2]"
   ]
  },
  {
   "cell_type": "code",
   "execution_count": 6,
   "id": "73493711",
   "metadata": {},
   "outputs": [
    {
     "name": "stdout",
     "output_type": "stream",
     "text": [
      "{'source': 'https://www.youtube.com/watch?v=LLEc_fqEk_k&t=0s', 'start_seconds': 0, 'start_timestamp': '00:00:00'}\n",
      "Tarak Mehta Ka Ooltah Chashma Papa it is getting very late.  Brother brother brother brother tapora show the report cut wait hey. Ke papa's stop the knife, hey stop if not then Jetha ji hi baba oh\n"
     ]
    }
   ],
   "source": [
    "index= 0\n",
    "print(docs[index].metadata)\n",
    "print(docs[index].page_content)"
   ]
  },
  {
   "cell_type": "markdown",
   "id": "6696921e",
   "metadata": {},
   "source": [
    "## Step-2\n",
    "## Loading the embedding model and the llm"
   ]
  },
  {
   "cell_type": "code",
   "execution_count": 7,
   "id": "3d8eaee0",
   "metadata": {},
   "outputs": [],
   "source": [
    "from langchain_huggingface import HuggingFaceEmbeddings\n",
    "from langchain_community.vectorstores import FAISS"
   ]
  },
  {
   "cell_type": "code",
   "execution_count": 8,
   "id": "dd991188",
   "metadata": {},
   "outputs": [
    {
     "name": "stderr",
     "output_type": "stream",
     "text": [
      "c:\\Users\\Prabal Kuinkel\\Desktop\\Youtube-Conversational_AI\\youtube_ai\\Lib\\site-packages\\tqdm\\auto.py:21: TqdmWarning: IProgress not found. Please update jupyter and ipywidgets. See https://ipywidgets.readthedocs.io/en/stable/user_install.html\n",
      "  from .autonotebook import tqdm as notebook_tqdm\n"
     ]
    }
   ],
   "source": [
    "embedding_model = HuggingFaceEmbeddings(model_name = \"sentence-transformers/all-mpnet-base-v2\")\n",
    "from langchain_huggingface import ChatHuggingFace,HuggingFaceEndpoint\n",
    "from transformers import AutoTokenizer\n",
    "# Initialize a llm model\n",
    "# repo_id = \"mistralai/Mistral-7B-Instruct-v0.3\"\n",
    "# # First load the tokenizer explicitly\n",
    "# tokenizer = AutoTokenizer.from_pretrained(repo_id)\n",
    "# llm1 = HuggingFaceEndpoint(\n",
    "#     repo_id = repo_id,\n",
    "#     temperature = 0.8,\n",
    "#     max_new_tokens=500,\n",
    "# )\n",
    "# llm = ChatHuggingFace(llm=llm1,tokenizer=tokenizer)"
   ]
  },
  {
   "cell_type": "code",
   "execution_count": 9,
   "id": "535bfe5c",
   "metadata": {},
   "outputs": [],
   "source": [
    "# !pip install langchain_groq"
   ]
  },
  {
   "cell_type": "code",
   "execution_count": 10,
   "id": "a9e7101b",
   "metadata": {},
   "outputs": [],
   "source": [
    "from langchain_groq import ChatGroq\n",
    "llm = ChatGroq(model_name = \"Qwen-Qwq-32b\",max_tokens= 1000)"
   ]
  },
  {
   "cell_type": "markdown",
   "id": "9f82fda4",
   "metadata": {},
   "source": [
    "## Step-3\n",
    " \n",
    " ## Creating a vectordatabase using the Chroma db\n"
   ]
  },
  {
   "cell_type": "code",
   "execution_count": 11,
   "id": "fc275395",
   "metadata": {},
   "outputs": [],
   "source": [
    "# vector_store = FAISS.from_documents(docs, embedding_model)\n",
    "from langchain_chroma import Chroma\n",
    "vectorstore = Chroma.from_documents(docs, embedding_model)"
   ]
  },
  {
   "cell_type": "code",
   "execution_count": 12,
   "id": "fa1368eb",
   "metadata": {},
   "outputs": [],
   "source": [
    "# !pip install langchain-chroma\n",
    "# !pip install lark"
   ]
  },
  {
   "cell_type": "markdown",
   "id": "7aafda84",
   "metadata": {},
   "source": [
    "## Step-4 Defining the retriever\n",
    "## Using the Metadatabased Filtering for retrievers\n",
    "\n",
    "#### -> this retriever is known as self-query retriever"
   ]
  },
  {
   "cell_type": "code",
   "execution_count": 13,
   "id": "af1fc675",
   "metadata": {},
   "outputs": [
    {
     "name": "stdout",
     "output_type": "stream",
     "text": [
      "{'source': 'https://www.youtube.com/watch?v=LLEc_fqEk_k&t=0s', 'start_seconds': 0, 'start_timestamp': '00:00:00'}\n"
     ]
    }
   ],
   "source": [
    "print(docs[index].metadata)"
   ]
  },
  {
   "cell_type": "code",
   "execution_count": 14,
   "id": "628aa3a6",
   "metadata": {},
   "outputs": [],
   "source": [
    "from langchain.chains.query_constructor.schema import AttributeInfo\n",
    "from langchain.retrievers.self_query.base import SelfQueryRetriever\n",
    "metadata_field_info = [\n",
    "    AttributeInfo(\n",
    "        name=\"source\",\n",
    "        description=\"The link of the video\",\n",
    "        type=\"string\"\n",
    "    ),\n",
    "    AttributeInfo(\n",
    "        name=\"start_seconds\",\n",
    "        description=\"The starting second of the video chunk (in seconds as integer)\",\n",
    "        type=\"integer\"  # Changed from string to integer\n",
    "    ),\n",
    "    AttributeInfo(\n",
    "        name=\"start_timestamp\",\n",
    "        description=\"Human-readable timestamp (HH:MM:SS format)\",\n",
    "        type=\"string\"\n",
    "    )\n",
    "]"
   ]
  },
  {
   "cell_type": "code",
   "execution_count": 15,
   "id": "88fc7ad8",
   "metadata": {},
   "outputs": [],
   "source": [
    "# # First get the base retriever from your vectorstore with increased k\n",
    "# base_vectorstore_retriever = vectorstore.as_retriever(\n",
    "#     # search_type = \"mmr\",\n",
    "#     search_kwargs={\"k\": 20,'lambda_mult':0.5}  # Increase this number as needed\n",
    "# )"
   ]
  },
  {
   "cell_type": "code",
   "execution_count": 16,
   "id": "7b5d503d",
   "metadata": {},
   "outputs": [],
   "source": [
    "document_content_description = \"Transcript of a youtube video\"\n",
    "retriever = SelfQueryRetriever.from_llm(\n",
    "    llm,\n",
    "    vectorstore,\n",
    "    document_content_description,\n",
    "    metadata_field_info,\n",
    "    # base_retriever = base_vectorstore_retriever,\n",
    "    verbose=True,\n",
    "    search_kwargs={\"k\": 5}  # Increase this number as needed\n",
    "\n",
    ")"
   ]
  },
  {
   "cell_type": "code",
   "execution_count": 17,
   "id": "1d00dbab",
   "metadata": {},
   "outputs": [],
   "source": [
    "# This example only specifies a filter\n",
    "# retriever.invoke(\"Create me a blog post about the video.\")\n",
    "# retriever.invoke(\"what is meant by multi query retriever ?\")"
   ]
  },
  {
   "cell_type": "markdown",
   "id": "e7394ca0",
   "metadata": {},
   "source": [
    "## Step- 5 Creating tools\n",
    "\n",
    "### Tool A. VectorStore Retriever tool (Convert the rag_chain into a tool)\n",
    "Redirect to this tool if the user queries is regarding the Video content\n",
    "\n",
    "### Tool B. DuckDuckSeach Tool\n",
    "Redirect to this tool if the user query is general"
   ]
  },
  {
   "cell_type": "code",
   "execution_count": 18,
   "id": "9f3bb225",
   "metadata": {},
   "outputs": [],
   "source": [
    "from langchain_core.tools import tool\n",
    "from langchain_community.tools import DuckDuckGoSearchRun #Search user queries Online\n",
    "\n",
    "@tool\n",
    "def retriever_vectorstore_tool(query:str)->str:\n",
    "    \"\"\"Use this tool when the user ask about:\n",
    "    - content of the youtube video\n",
    "    - Any queries specifically about the youtube video\n",
    "    Input should be the exact search query.\n",
    "    The tool will perform a vectorstore search using retriever.\"\"\"\n",
    "    return retriever.invoke(query)\n",
    "\n",
    "\n",
    "\n",
    "search = DuckDuckGoSearchRun()\n",
    "@tool\n",
    "def duckducksearch_tool(query: str) -> str:\n",
    "    \"\"\"Use this tool when:\n",
    "    - The question is not about youtube video\n",
    "    \n",
    "    Input should be the exact search query.\n",
    "    The tool will perform a web search using DuckDuckGo.\n",
    "    \"\"\"\n",
    "    return search.invoke(query)"
   ]
  },
  {
   "cell_type": "markdown",
   "id": "522e1b58",
   "metadata": {},
   "source": [
    "## Step-6 Binding the llm with the tools"
   ]
  },
  {
   "cell_type": "code",
   "execution_count": 19,
   "id": "9144d2c0",
   "metadata": {},
   "outputs": [],
   "source": [
    "tools= [retriever_vectorstore_tool,duckducksearch_tool]\n",
    "llm_with_tools=llm.bind_tools(tools=tools)"
   ]
  },
  {
   "cell_type": "markdown",
   "id": "495a3371",
   "metadata": {},
   "source": [
    "## Step-7 Define the langgraph workflow with memory"
   ]
  },
  {
   "cell_type": "markdown",
   "id": "68436115",
   "metadata": {},
   "source": [
    "### Step-7.1 Define the State (flow of information through nodes)"
   ]
  },
  {
   "cell_type": "code",
   "execution_count": null,
   "id": "88051b42",
   "metadata": {},
   "outputs": [],
   "source": [
    "from typing_extensions import Annotated, TypedDict \n",
    "from typing import List \n",
    "from langchain_core.messages import AnyMessage #can be either HumanMsg or AImsg or ToolMsg\n",
    "from langgraph.graph.message import add_messages #Append the new messages insted of replacing\n",
    "\n",
    "class State(TypedDict):\n",
    "    \"\"\"Represents the state of our graph\"\"\"\n",
    "    messages:Annotated[List[AnyMessage],add_messages]"
   ]
  },
  {
   "cell_type": "markdown",
   "id": "d7947b70",
   "metadata": {},
   "source": [
    "### Step-7.2 Define the Graph"
   ]
  },
  {
   "cell_type": "code",
   "execution_count": null,
   "id": "6f1fb37f",
   "metadata": {},
   "outputs": [],
   "source": [
    "from langgraph.graph import StateGraph, START, END\n",
    " # ToolNode is pre-built component that will invoke/execute the tool in behalf of the user and returns the tool_response\n",
    " # tools_condition is pre-built component that routes to ToolNode if the last message has tool call , otherwise routes to end\n",
    "from langgraph.prebuilt import ToolNode, tools_condition\n",
    "from IPython.display import Image, display #to visualize the Graph"
   ]
  },
  {
   "cell_type": "markdown",
   "id": "07e1b6a4",
   "metadata": {},
   "source": [
    "#### Step- 7.2.1 \n",
    "#### Implement a ConversationalWindowBuffer Memory using langgraph"
   ]
  },
  {
   "cell_type": "code",
   "execution_count": null,
   "id": "456b41fc",
   "metadata": {},
   "outputs": [],
   "source": [
    "# A function that determines the best tool to server the user query \n",
    "def tool_calling_llm(State:State)->State:\n",
    "    return {'messages':llm_with_tools.invoke(State['messages'])}"
   ]
  },
  {
   "cell_type": "code",
   "execution_count": 36,
   "id": "4aa4b95c",
   "metadata": {},
   "outputs": [
    {
     "data": {
      "text/plain": [
       "tools(tags=None, recurse=True, explode_args=False, func_accepts_config=True, func_accepts={'store': ('__pregel_store', None)}, tools_by_name={'retriever_vectorstore_tool': StructuredTool(name='retriever_vectorstore_tool', description='Use this tool when the user ask about:\\n    - content of the youtube video\\n    - Any queries specifically about the youtube video\\n    Input should be the exact search query.\\n    The tool will perform a vectorstore search using retriever.', args_schema=<class 'langchain_core.utils.pydantic.retriever_vectorstore_tool'>, func=<function retriever_vectorstore_tool at 0x0000018497A58FE0>), 'duckducksearch_tool': StructuredTool(name='duckducksearch_tool', description='Use this tool when:\\n    - The question is not about youtube video\\n\\n    Input should be the exact search query.\\n    The tool will perform a web search using DuckDuckGo.', args_schema=<class 'langchain_core.utils.pydantic.duckducksearch_tool'>, func=<function duckducksearch_tool at 0x000001849EF3E020>)}, tool_to_state_args={'retriever_vectorstore_tool': {}, 'duckducksearch_tool': {}}, tool_to_store_arg={'retriever_vectorstore_tool': None, 'duckducksearch_tool': None}, handle_tool_errors=True, messages_key='messages')"
      ]
     },
     "execution_count": 36,
     "metadata": {},
     "output_type": "execute_result"
    }
   ],
   "source": [
    "tool_node = ToolNode(tools=tools)\n",
    "tool_node"
   ]
  },
  {
   "cell_type": "code",
   "execution_count": 37,
   "id": "423af05d",
   "metadata": {},
   "outputs": [
    {
     "data": {
      "image/png": "[encoded data removed]",
      "text/plain": [
       "<IPython.core.display.Image object>"
      ]
     },
     "metadata": {},
     "output_type": "display_data"
    }
   ],
   "source": [
    "#Initializing the StateGraph\n",
    "builder = StateGraph(state_schema=State)\n",
    "\n",
    "\n",
    "#Adding the nodes\n",
    "builder.add_node('tool_calling_llm',tool_calling_llm) # returns the tools that is to be used\n",
    "builder.add_node('tools',tool_node) # Executes the specified tool\n",
    "\n",
    "#Adding Edges\n",
    "builder.add_edge(START,'tool_calling_llm')\n",
    "builder.add_conditional_edges(\n",
    "    'tool_calling_llm',\n",
    "    # If the latest message from AI is a tool call -> tools_condition routes to tools\n",
    "    # If the latest message from AI is a not a tool call -> tools_condition routes to LLM, then generate final response and END\n",
    "    tools_condition\n",
    ")\n",
    "builder.add_edge('tools','tool_calling_llm')\n",
    "\n",
    "#Compile the graph\n",
    "graph = builder.compile()\n",
    "\n",
    "# View\n",
    "display(Image(graph.get_graph().draw_mermaid_png()))\n",
    "\n"
   ]
  },
  {
   "cell_type": "markdown",
   "id": "921f46fd",
   "metadata": {},
   "source": [
    "### Code Explaination / Flow :\n",
    "\n",
    "    1. Starts with calling the 'tool_calling_llm' , which decides which tool is to be used to answer the user query .\n",
    "\n",
    "    2. It is redirected to the 'tools_condition' function , where \n",
    "        \n",
    "        Case I: If the Last 'AI Message' is a tool call ,then 'tools_conditions' automatically routes to 'tool_node' which will executes the specified tool and return the tool_response.\n",
    "\n",
    "        Case II: If the last 'AI Message' is not a tool call, then 'tools_conditions' routes to 'tool_calling_llm' generates the final reponse and route to END\n"
   ]
  },
  {
   "cell_type": "code",
   "execution_count": 38,
   "id": "1b2c254b",
   "metadata": {},
   "outputs": [],
   "source": [
    "response = graph.invoke({\n",
    "    'messages':\"What happened between minute 10 to 16 according to video?\"\n",
    "})"
   ]
  },
  {
   "cell_type": "code",
   "execution_count": 26,
   "id": "def081b2",
   "metadata": {},
   "outputs": [],
   "source": [
    "# retriever.invoke(\"What are the names of footballers, mentioned according to the video , and can you also provide me the source/link of the video?\")"
   ]
  },
  {
   "cell_type": "code",
   "execution_count": 27,
   "id": "a2614e72",
   "metadata": {},
   "outputs": [],
   "source": [
    "# retriever.invoke(\"Who scored the goals according\")"
   ]
  },
  {
   "cell_type": "code",
   "execution_count": 39,
   "id": "79a27982",
   "metadata": {},
   "outputs": [
    {
     "data": {
      "text/plain": [
       "{'messages': [HumanMessage(content='What happened between minute 10 to 16 according to video?', additional_kwargs={}, response_metadata={}, id='23518801-770c-4063-bd0f-360bae6c8f3c'),\n",
       "  AIMessage(content='', additional_kwargs={'tool_calls': [{'id': 'call_aqvy', 'function': {'arguments': '{\"query\": \"What happened between minute 10 to 16 according to video?\"}', 'name': 'retriever_vectorstore_tool'}, 'type': 'function'}]}, response_metadata={'token_usage': {'completion_tokens': 238, 'prompt_tokens': 303, 'total_tokens': 541, 'completion_time': 0.581416711, 'prompt_time': 0.017350453, 'queue_time': 0.491761932, 'total_time': 0.598767164}, 'model_name': 'Qwen-Qwq-32b', 'system_fingerprint': 'fp_3796682456', 'finish_reason': 'tool_calls', 'logprobs': None}, id='run-8b1bb219-a78d-498a-aba3-5cff21340bdd-0', tool_calls=[{'name': 'retriever_vectorstore_tool', 'args': {'query': 'What happened between minute 10 to 16 according to video?'}, 'id': 'call_aqvy', 'type': 'tool_call'}], usage_metadata={'input_tokens': 303, 'output_tokens': 238, 'total_tokens': 541}),\n",
       "  ToolMessage(content='Error: OutputParserException(\\'Parsing text\\\\n\\\\n<think>\\\\nOkay, let\\\\\\'s tackle this problem step by step. The user wants me to structure their query according to the given schema. First, I need to understand the data source provided. The data source here includes attributes like \"source\" (a string), \"start_seconds\" (an integer), and \"start_timestamp\" (a string in HH:MM:SS format). \\\\n\\\\nThe user\\\\\\'s query is asking, \"What happened between minute 10 to 16 according to video?\" So, I need to break this down into a query and filter. \\\\n\\\\nStarting with the query part: The actual content they\\\\\\'re interested in is the events between those minutes. Since the content is the transcript of the video, the query should probably be something like \"What happened\" to match the content, but maybe more specific. Alternatively, if the content is just the transcript text, maybe the query can be empty because the filter will handle the timing. Wait, looking back at example 2, when the query didn\\\\\\'t relate to existing attributes (like \"not published on Spotify\" which wasn\\\\\\'t an attribute), the filter was \"NO_FILTER\" and the query was empty. \\\\n\\\\nIn this case, the user is asking about a time range. The data source has \"start_seconds\" which is an integer. The question is between minute 10 to 16, so converting that to seconds: 10 minutes is 600 seconds, 16 minutes is 960 seconds. But since it\\\\\\'s \"between\", they probably want entries where start_seconds is greater than or equal to 600 and less than or equal to 960? Wait, but actually, if it\\\\\\'s \"between minute 10 to 16\", maybe it\\\\\\'s the duration from 10 to 16 minutes, so the start_seconds should be between 600 and 960. But I need to make sure that the comparison is correct. Since the attribute is \"start_seconds\", which is the starting point, so any entry that starts between those times. \\\\n\\\\nThe filter would need to use \"start_seconds\" with a \"gte\" (greater than or equal to 600) and \"lte\" (less than or equal to 960). But how to structure that. \\\\n\\\\nSo the filter should be: and(gte(start_seconds, 600), lte(start_seconds, 960)). Wait, but in the example, the format is comp(attr, val), so each comparison is like \"gte(\\\\\\\\\"start_seconds\\\\\\\\\", 600)\". Then combine those with \"and\".\\\\n\\\\nPutting that together, the filter would be \"and(gte(\\\\\\\\\"start_seconds\\\\\\\\\", 600), lte(\\\\\\\\\"start_seconds\\\\\\\\\", 960))\". \\\\n\\\\nThe query part should be the text part that matches the content. The user\\\\\\'s question is \"What happened between minute 10 to 16 according to video?\" The actual content is the transcript, so the query should probably be the text that\\\\\\'s in the transcript about what happened in that time. But since the time is handled by the filter, the query might be empty because the content itself (the transcript) doesn\\\\\\'t specifically mention the time in the text. Alternatively, maybe the query is \"What happened\" but that\\\\\\'s part of the question. The guidelines say the query should contain text to compare to document contents. The actual content here is the transcript, so if the user is asking for what happened in that time, the query might need to be an empty string because the time is handled via the filter, and the content is just the transcript\\\\\\'s text. \\\\n\\\\nWait, in Example 1, the query was \"teenager love\" which is the content part (the lyrics about teenage romance), and the filter handled the artists and genre. Similarly, here, the content is the transcript, so if the user is asking for events between 10-16 minutes, the actual content (transcript) doesn\\\\\\'t have that time info except via the attributes. Therefore, the query might be empty, or maybe \"What happened\" is part of the query. Wait, but according to the schema, the query is the text to compare to document contents. Since the content is the transcript\\\\\\'s text, the query should be the actual text they want to search. But the user\\\\\\'s question is about a time period, so the actual event details would be in the transcript\\\\\\'s text, but the time is an attribute. Therefore, the query might not have any specific text to search beyond the time filter. Therefore, the query could be an empty string, and the filter handles the timing. \\\\n\\\\nAlternatively, maybe \"What happened\" is part of the query. But I think the query should focus on the content\\\\\\'s text. Since the question is asking for events during that time, the actual content (transcript) would have\\\\n raised following error:\\\\nGot invalid JSON object. Error: Expecting value: line 1 column 1 (char 0)\\\\nFor troubleshooting, visit: https://python.langchain.com/docs/troubleshooting/errors/OUTPUT_PARSING_FAILURE \\\\nFor troubleshooting, visit: https://python.langchain.com/docs/troubleshooting/errors/OUTPUT_PARSING_FAILURE \\')\\n Please fix your mistakes.', name='retriever_vectorstore_tool', id='ee152707-cf79-406d-bf9c-8b234c39852b', tool_call_id='call_aqvy', status='error'),\n",
       "  AIMessage(content='', additional_kwargs={'tool_calls': [{'id': 'call_fhms', 'function': {'arguments': '{\"query\": \"What happened between minute 10 to 16 according to video?\"}', 'name': 'retriever_vectorstore_tool'}, 'type': 'function'}]}, response_metadata={'token_usage': {'completion_tokens': 285, 'prompt_tokens': 1496, 'total_tokens': 1781, 'completion_time': 0.701006023, 'prompt_time': 0.097406631, 'queue_time': 0.347539069, 'total_time': 0.798412654}, 'model_name': 'Qwen-Qwq-32b', 'system_fingerprint': 'fp_512a3da6bb', 'finish_reason': 'tool_calls', 'logprobs': None}, id='run-c1a599a0-3795-4c7a-92df-e90373bbaa7c-0', tool_calls=[{'name': 'retriever_vectorstore_tool', 'args': {'query': 'What happened between minute 10 to 16 according to video?'}, 'id': 'call_fhms', 'type': 'tool_call'}], usage_metadata={'input_tokens': 1496, 'output_tokens': 285, 'total_tokens': 1781}),\n",
       "  ToolMessage(content='[Document(id=\\'6ee3379e-4c65-46d8-b575-a6bb45274271\\', metadata={\\'source\\': \\'https://www.youtube.com/watch?v=LLEc_fqEk_k&t=660s\\', \\'start_seconds\\': 660, \\'start_timestamp\\': \\'00:11:00\\'}, page_content=\"Sorry Ma\\'am come with me Let\\'s switch it off now Yes Ma\\'am We were just keeping it aside Come with me to the Principal\\'s office Ma\\'am Sorry Ma\\'am No Principal Ma\\'am Sorry Ma\\'am Sorry Come on Ma\\'am Sorry Come on Ma\\'am Sorry Ma\\'am Please Sorry Ma\\'am Please Ma\\'am R Sorry Ma\\'am Ma\\'am Please Ma\\'am Ma\\'am Please Ma\\'am Please Ma\\'am Ma\\'am Sorry Ma\\'am Sorry Ma\\'am Ma\\'am Hey Tappu After school gets over forward all your funny jokes to me Hey it seems you have n\\'t heard the notice regarding mobile that is read in every class right Sorry Ma\\'am And why are you guys standing come quickly I will come in Ma\\'am Yes come in come come and stand here come what happened\"), Document(id=\\'cc6bbf77-78fe-4122-a3ed-75e4cf33cb5a\\', metadata={\\'source\\': \\'https://www.youtube.com/watch?v=LLEc_fqEk_k&t=720s\\', \\'start_seconds\\': 720, \\'start_timestamp\\': \\'00:12:00\\'}, page_content=\"Leena It has not been even 2 minutes since the notice about mobile was heard and these people were reading jokes on their mobiles on the teachers.  Wow Tappu Sena, number one in good work, social work, mischief, fun and now jokes on teachers. Sorry ma\\'am.  Sorry ma\\'am.  No sorry Tapu.  Don\\'t think that you have done good social work. Therefore you will be forgiven for every mistake. Even if you do 100 good deeds, but if you make such a mistake, you will never be forgiven for such a mistake. By the way what is the joke Tappu read it?  Ma\\'am ma\\'am ma\\'am I\\'m really very sorry ma\\'am.  Read it.  Ma\\'am ma\\'am sorry ma\\'am.  Read it. From do s i.  Read it.\"), Document(id=\\'9864c4da-f252-418c-9910-9f4d8a92c6a0\\', metadata={\\'source\\': \\'https://www.youtube.com/watch?v=LLEc_fqEk_k&t=600s\\', \\'start_seconds\\': 600, \\'start_timestamp\\': \\'00:10:00\\'}, page_content=\"this joke, the teacher\\'s husband came home late, that is why the teacher punished her husband and made him stand like a rooster outside the house and said 100 times that he will not come home late. Ice Goli Tappu Stand up Ma\\'am Sorry Ma\\'am Sorry Sorry Ma\\'am Stand up Ma\\'am Sorry stand up\"), Document(id=\\'d3b870df-4c71-4cd3-9e56-72de27613f64\\', metadata={\\'source\\': \\'https://www.youtube.com/watch?v=LLEc_fqEk_k&t=840s\\', \\'start_seconds\\': 840, \\'start_timestamp\\': \\'00:14:00\\'}, page_content=\"So this is what you think about your teachers. No ma\\'am.  We respect teachers a lot. Yes ma\\'am.  These jokes came in the message. Please forgive us ma\\'am please. Sorry shut up.  If you respected the teacher and principal, you would not have switched on your mobile despite hearing the notice.  You people have made fun of the teacher.  You make fun of those teachers who are your gurus. All three of you will be punished for this. Ma\\'am, please call his parents. Why should we call their parents?   It is also the responsibility of parents to know what their children do and what they do not.  Parents give mobile phones to their children but do\"), Document(id=\\'21bd6037-2eca-4758-afa9-6eda387fe895\\', metadata={\\'source\\': \\'https://www.youtube.com/watch?v=LLEc_fqEk_k&t=900s\\', \\'start_seconds\\': 900, \\'start_timestamp\\': \\'00:15:00\\'}, page_content=\"not teach them when and how to use them.  Now these people themselves will tell their parents that they have been expelled from school. Ma\\'am Ma\\'am such mistake will not be repeated Ma\\'am sorry Ma\\'am please Ma\\'am I do n\\'t want any argument Ma\\'am I don\\'t want to hear anything You all go home and come back only after bringing your parents and then we will see what to do next regarding your punishment.  Right now you all go home right now and Leena confiscate their mobiles right now.  Ok ma\\'am bring the mobile. Ma\\'am please don\\'t, ma\\'am please take your bag\")]', name='retriever_vectorstore_tool', id='ce299774-1a6c-4c3b-94f1-c0036d4fee3b', tool_call_id='call_fhms'),\n",
       "  AIMessage(content='', additional_kwargs={}, response_metadata={'token_usage': {'completion_tokens': 1000, 'prompt_tokens': 2654, 'total_tokens': 3654, 'completion_time': 2.267435828, 'prompt_time': 0.141432997, 'queue_time': 0.272019061, 'total_time': 2.408868825}, 'model_name': 'Qwen-Qwq-32b', 'system_fingerprint': 'fp_fbb7e6cc39', 'finish_reason': 'length', 'logprobs': None}, id='run-be749f8c-d862-4920-9200-e4ca1a3782e8-0', usage_metadata={'input_tokens': 2654, 'output_tokens': 1000, 'total_tokens': 3654})]}"
      ]
     },
     "execution_count": 39,
     "metadata": {},
     "output_type": "execute_result"
    }
   ],
   "source": [
    "response"
   ]
  },
  {
   "cell_type": "code",
   "execution_count": 40,
   "id": "f8687288",
   "metadata": {},
   "outputs": [
    {
     "name": "stdout",
     "output_type": "stream",
     "text": [
      "\n"
     ]
    }
   ],
   "source": [
    "print(response['messages'][-1].content)"
   ]
  }
 ],
 "metadata": {
  "kernelspec": {
   "display_name": "youtube_ai",
   "language": "python",
   "name": "python3"
  },
  "language_info": {
   "codemirror_mode": {
    "name": "ipython",
    "version": 3
   },
   "file_extension": ".py",
   "mimetype": "text/x-python",
   "name": "python",
   "nbconvert_exporter": "python",
   "pygments_lexer": "ipython3",
   "version": "3.11.7"
  }
 },
 "nbformat": 4,
 "nbformat_minor": 5
}
