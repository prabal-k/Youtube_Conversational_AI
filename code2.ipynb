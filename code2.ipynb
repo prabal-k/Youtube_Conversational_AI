{
 "cells": [
  {
   "cell_type": "code",
   "execution_count": 1,
   "id": "5d36c029",
   "metadata": {},
   "outputs": [
    {
     "name": "stderr",
     "output_type": "stream",
     "text": [
      "2025-08-06 23:29:25.620 WARNING streamlit.runtime.scriptrunner_utils.script_run_context: Thread 'MainThread': missing ScriptRunContext! This warning can be ignored when running in bare mode.\n"
     ]
    }
   ],
   "source": [
    "import os\n",
    "import streamlit as st   #For the User Interface\n",
    "st.set_page_config(page_title=\"Youtube Chatbot\", page_icon=\"💬\", layout=\"centered\")\n",
    "from langchain_huggingface import HuggingFaceEmbeddings # Load the  embedding model from huggingface\n",
    "from langchain_chroma import Chroma #Vectorstore to store the embedded vectors\n",
    "from langchain_community.document_loaders.csv_loader import CSVLoader #To load the csv file (data containing companys faq)\n",
    "from langchain_community.tools import DuckDuckGoSearchRun #Search user queries Online\n",
    "from langchain_groq import ChatGroq  #Load the open source Groq Models\n",
    "from langgraph.graph import StateGraph, START, END #Define the State for langgraph\n",
    "from langgraph.prebuilt import ToolNode,tools_condition #specialized node designed to execute tools within our workflow.\n",
    "from langchain_core.messages import AnyMessage #Human message or Ai Message\n",
    "from langgraph.graph.message import add_messages  ## Reducers in Langgraph ,i.e append the messages instead of replace\n",
    "from typing_extensions import Annotated,TypedDict #Annotated for labelling and TypeDict to maintain graph state \n",
    "from langchain_core.tools import tool\n",
    "from langchain_core.messages import trim_messages # Trim the message and keep past 2 conversation\n",
    "from langgraph.checkpoint.memory import MemorySaver #Implement langgraph memory\n",
    "from langchain_core.messages import HumanMessage, AIMessage\n",
    "from youtube_transcript_api import YouTubeTranscriptApi\n",
    "from langchain.chains.query_constructor.schema import AttributeInfo\n",
    "from langchain.retrievers.self_query.base import SelfQueryRetriever\n",
    "from langchain.text_splitter import RecursiveCharacterTextSplitter\n",
    "from langchain_core.documents import Document\n",
    "from collections import defaultdict\n",
    "from datetime import timedelta\n",
    "from langchain_openai import ChatOpenAI\n",
    "from langchain_core.prompts import ChatPromptTemplate ,PromptTemplate\n",
    "from langchain_core.output_parsers import StrOutputParser\n",
    "\n",
    "from dotenv import load_dotenv  #Load environemnt variables from .env\n",
    "load_dotenv()\n",
    "# Create a Unique Id for each user conversation\n",
    "import uuid"
   ]
  },
  {
   "cell_type": "code",
   "execution_count": 2,
   "id": "9de7e27a",
   "metadata": {},
   "outputs": [
    {
     "name": "stderr",
     "output_type": "stream",
     "text": [
      "c:\\Users\\Prabal Kuinkel\\Desktop\\AI_Projects\\Youtube-Conversational_AI\\youtube_conver_ai\\Lib\\site-packages\\tqdm\\auto.py:21: TqdmWarning: IProgress not found. Please update jupyter and ipywidgets. See https://ipywidgets.readthedocs.io/en/stable/user_install.html\n",
      "  from .autonotebook import tqdm as notebook_tqdm\n"
     ]
    }
   ],
   "source": [
    "embedding_model = HuggingFaceEmbeddings(model_name=\"sentence-transformers/paraphrase-multilingual-mpnet-base-v2\") #Load the hf Embedding model\n",
    "# llm = ChatOpenAI(model='gpt-4o-mini')\n",
    "llm = ChatGroq(temperature=0.4, model_name='Llama-3.3-70b-versatile',max_tokens=3000) #Initialize the llm\n",
    "search = DuckDuckGoSearchRun()  #Duckducksearch"
   ]
  },
  {
   "cell_type": "code",
   "execution_count": 3,
   "id": "afcec0d5",
   "metadata": {},
   "outputs": [
    {
     "name": "stderr",
     "output_type": "stream",
     "text": [
      "c:\\Users\\Prabal Kuinkel\\Desktop\\AI_Projects\\Youtube-Conversational_AI\\youtube_conver_ai\\Lib\\site-packages\\torch\\nn\\modules\\module.py:1762: FutureWarning: `encoder_attention_mask` is deprecated and will be removed in version 4.55.0 for `XLMRobertaSdpaSelfAttention.forward`.\n",
      "  return forward_call(*args, **kwargs)\n"
     ]
    }
   ],
   "source": [
    "youtube_url = \"https://www.youtube.com/watch?v=LPze5QLvb2M\"\n",
    "\n",
    "if youtube_url:\n",
    "    video_id = youtube_url.split(\"v=\")[-1].split(\"&\")[0]\n",
    "else:\n",
    "    video_id = \"default\"\n",
    "\n",
    "persist_dir = f\"chroma_index/{video_id}\"  # Use unique folder per video\n",
    "vectorstore = Chroma(collection_name=video_id, embedding_function=embedding_model)\n",
    "\n",
    "docs = []\n",
    "documents = []\n",
    "\n",
    "if youtube_url:\n",
    "    try:\n",
    "        ytt_api = YouTubeTranscriptApi()\n",
    "        try:\n",
    "            docs = ytt_api.fetch(video_id, languages=[\"en\"])\n",
    "            # print(docs)\n",
    "        except Exception as e:\n",
    "            print(\"Transcript not found for this video.\")\n",
    "\n",
    "        # Step 1: Group snippets by minute\n",
    "        minute_chunks = defaultdict(list)\n",
    "        minute_starts = {}\n",
    "\n",
    "        for snippet in docs:\n",
    "            minute = int(snippet.start // 60)\n",
    "            minute_chunks[minute].append(snippet.text)\n",
    "\n",
    "            # Save the earliest start time per minute\n",
    "            if minute not in minute_starts:\n",
    "                minute_starts[minute] = snippet.start\n",
    "\n",
    "        # Step 2: Create LangChain Document objects with HH:MM:SS timestamps\n",
    "        for minute in sorted(minute_chunks.keys()):\n",
    "            content = \" \".join(minute_chunks[minute])\n",
    "\n",
    "            # Format start time to HH:MM:SS\n",
    "            seconds = int(minute_starts[minute])\n",
    "            timestamp = str(timedelta(seconds=seconds))\n",
    "\n",
    "            metadata = {\n",
    "                \"minute\": minute,\n",
    "                \"start_timestamp\": timestamp\n",
    "            }\n",
    "\n",
    "            doc = Document(page_content=content, metadata=metadata)\n",
    "            documents.append(doc)\n",
    "\n",
    "        # print(documents)\n",
    "        vectorstore.add_documents(documents)\n",
    "\n",
    "    except Exception as e:\n",
    "        pass\n"
   ]
  },
  {
   "cell_type": "code",
   "execution_count": 4,
   "id": "cc423315",
   "metadata": {},
   "outputs": [],
   "source": [
    "metadata_field_info = [\n",
    "        AttributeInfo(\n",
    "            name=\"start_timestamp\",\n",
    "            description=\"The starting second of the video chunk (in format of : 'HH:MM:SS)\",\n",
    "            type=\"integer\"  # Changed from string to integer\n",
    "        ),\n",
    "        AttributeInfo(\n",
    "            name=\"minute\",\n",
    "            description=\"Time of the video played\",\n",
    "            type=\"integer\"\n",
    "        )]\n",
    "        # First get the base retriever from your vectorstore with increased k\n",
    "base_vectorstore_retriever = vectorstore.as_retriever(\n",
    "            search_type = \"mmr\",\n",
    "            search_kwargs={\"k\": 8 , \"lambda_mult\":0.3} \n",
    "        )\n",
    "document_content_description = \"Transcript of a youtube video\"\n",
    "retriever = SelfQueryRetriever.from_llm(\n",
    "            llm,\n",
    "            vectorstore,\n",
    "            document_content_description,\n",
    "            metadata_field_info,\n",
    "            base_retriever = base_vectorstore_retriever,\n",
    "            verbose=True,\n",
    "            # search_kwargs={\"k\": 8} \n",
    "        )"
   ]
  },
  {
   "cell_type": "code",
   "execution_count": 5,
   "id": "36b53873",
   "metadata": {},
   "outputs": [],
   "source": [
    "# retriever.invoke(\"Who won the match\")"
   ]
  },
  {
   "cell_type": "markdown",
   "id": "3ff23125",
   "metadata": {},
   "source": [
    "## Define the router Pydantic basemodel"
   ]
  },
  {
   "cell_type": "code",
   "execution_count": 6,
   "id": "c7adf8d2",
   "metadata": {},
   "outputs": [],
   "source": [
    "from pydantic import BaseModel,Field\n",
    "from typing import Literal \n",
    "\n",
    "class Routequery(BaseModel):\n",
    "    decision : Literal[\"generate_audio\",\"stop\"] = Field(...,description=\"Given a user question choose to route to `summarize_qa` or `stop`\")"
   ]
  },
  {
   "cell_type": "markdown",
   "id": "b370e4d2",
   "metadata": {},
   "source": [
    "## Langgraph States"
   ]
  },
  {
   "cell_type": "code",
   "execution_count": 22,
   "id": "c6169a49",
   "metadata": {},
   "outputs": [],
   "source": [
    "from typing_extensions import TypedDict\n",
    "from typing import List\n",
    "from langchain_core.messages import BaseMessage\n",
    "\n",
    "\n",
    "class State(TypedDict):\n",
    "    \"\"\"Represents the state of our graph\n",
    "    \n",
    "    Attribute:\n",
    "\n",
    "    messages : All the messages in our graph , including AIMessage , HumanMessage .\n",
    "   \n",
    "    \"\"\"\n",
    "\n",
    "    messages: Annotated[list[BaseMessage], add_messages] #List of messages appended"
   ]
  },
  {
   "cell_type": "markdown",
   "id": "49ecfb2c",
   "metadata": {},
   "source": [
    "## Node-1 : (Routing node)"
   ]
  },
  {
   "cell_type": "code",
   "execution_count": 23,
   "id": "ca0202a3",
   "metadata": {},
   "outputs": [],
   "source": [
    "from langchain_core.prompts import ChatPromptTemplate\n",
    "system_msg = \"\"\"You are an expert at routing a user query.\n",
    "\n",
    "If the user query is about generating audio or speech from the content, return \"generate_audio\".\n",
    "If it's about providing summary or answering specific content from the video transcript, return \"stop\".\n",
    "\"\"\"\n",
    "template_route = ChatPromptTemplate([\n",
    "    (\"system\", system_msg),\n",
    "    (\"human\", \"{question}\")\n",
    "])\n",
    "structured_llm_router = llm.with_structured_output(Routequery)\n",
    "\n",
    "chain_router = template_route | structured_llm_router\n",
    "\n",
    "# Router function\n",
    "def route_query(state: State) -> dict:\n",
    "    \"\"\"Route question to `generate_audio` or `stop` .\n",
    "    \n",
    "    Arguments:\n",
    "        state(dict) : Current graph state .\n",
    "\n",
    "    Returns:\n",
    "        state(dict) : Updated graph state by adding the intent of the user .\n",
    "    \"\"\"\n",
    "\n",
    "    user_msg = next(msg for msg in reversed(state[\"messages\"]) if isinstance(msg, HumanMessage))\n",
    "    intent = chain_router.invoke({\"question\": user_msg.content})\n",
    "    # if intent.decision ==\"generate_audio\":\n",
    "    #     return \"generate_audio\"\n",
    "    # else:\n",
    "    #     return \"stop\"\n",
    "    return {\"decision\": intent.decision}\n",
    "    \n",
    "    \n",
    "\n",
    "    "
   ]
  },
  {
   "cell_type": "markdown",
   "id": "afdd8463",
   "metadata": {},
   "source": [
    "## Node 2 : (Question Answering and Summarize Node)"
   ]
  },
  {
   "cell_type": "code",
   "execution_count": null,
   "id": "28e7b74b",
   "metadata": {},
   "outputs": [],
   "source": [
    "def summarize_qa(state: State) -> State:\n",
    "    \"\"\"Generates either a summary or a dialogue depending on the user query.\"\"\"\n",
    "\n",
    "    system_msg = \"\"\"You're a helpful assistant that summarizes YouTube video transcripts in a way that feels natural and engaging.\n",
    "\n",
    "Your tasks:\n",
    "- If the user asks about the summary of video , video's content, query about specific time stamp in the video, provide a clear, friendly summary, as if you're casually explaining it to someone who hasn’t seen the video. Arrange the content in chronological order as you will also have the time stamp .\n",
    "- If the user asks for **audio or speech**, generate a natural-sounding conversation between two people (Person A and Person B) discussing the video. Make it feel like a real exchange — include reactions, questions, and follow-ups. Start the communication with 2 people discussing the agenda of the video.\n",
    "\n",
    "Guidelines:\n",
    "- Always use only the transcript for answers.\n",
    "- Keep your tone human, not robotic or overly formal.\n",
    "\"\"\"\n",
    "\n",
    "\n",
    "    # Get all messages (including history)\n",
    "    messages = state[\"messages\"]\n",
    "    \n",
    "    # Get last human message\n",
    "    user_msg = next(msg for msg in reversed(messages) if isinstance(msg, HumanMessage))\n",
    "    \n",
    "    # Get transcript context\n",
    "    result = retriever.invoke(user_msg.content)\n",
    "    context_docs = []\n",
    "    for doc in result:\n",
    "        metadata = doc.metadata\n",
    "        content = doc.page_content\n",
    "        # extract metadata variables\n",
    "        minute = metadata.get(\"minute\")\n",
    "        start_timestamp = metadata.get(\"start_timestamp\")\n",
    "        # append context with metadata + content\n",
    "        context_docs.append(f\"Start Time: {start_timestamp}, Minute: {minute}\\n{content}\")\n",
    "\n",
    "    context = \"\\n\\n\".join(context_docs)\n",
    "    # print(context)\n",
    "    \n",
    "    # Prepare conversation history for context\n",
    "    conversation_history = \"\\n\".join(\n",
    "        f\"{'User' if isinstance(msg, HumanMessage) else 'Assistant'}: {msg.content}\"\n",
    "        for msg in messages[:-1]  # Exclude current message\n",
    "    )\n",
    "\n",
    "    template_generate_response = ChatPromptTemplate.from_messages([\n",
    "        (\"system\", system_msg),\n",
    "        (\"human\", f\"Conversation History:\\n{conversation_history}\\n\\n\"\n",
    "                 f\"Current Question: {user_msg.content}\\n\\n\"\n",
    "                 f\"Transcript Context:\\n{context}\")\n",
    "    ])\n",
    "\n",
    "    chain_response = template_generate_response | llm\n",
    "    response = chain_response.invoke({})  # All context is in the prompt template\n",
    "    \n",
    "    # Append new response to existing messages\n",
    "    return {\"messages\": messages + [response]}"
   ]
  },
  {
   "cell_type": "markdown",
   "id": "66588171",
   "metadata": {},
   "source": [
    "## Node 3: (Generating Audio)"
   ]
  },
  {
   "cell_type": "code",
   "execution_count": 25,
   "id": "77168172",
   "metadata": {},
   "outputs": [],
   "source": [
    "conversation_sys_msg =\"\"\"Based on the provided conversation between 2 people, enhance these conversation and return a list in this format . Directly start with the conversation\n",
    "***Expected Output*** :\n",
    "[\n",
    "\"Hey how are you ?\" ,\n",
    "\"I am fine , what about you \" ,\n",
    "\".........\",\n",
    "...\n",
    "]\n",
    "\"\"\"\n",
    "\n",
    "def generate_audio(state: State) -> State:\n",
    "    \"\"\" Generate a audio version of the youtube video .env\n",
    "\n",
    "    Argument:\n",
    "        state(dict) : The Current graph state .\n",
    "    \n",
    "    Returns :\n",
    "        state(dict) : The updated graph state by appending the Conversation text .\n",
    "    \"\"\"\n",
    "    conversation_messages = state['messages'][-1].content\n",
    "    create_conversation = ChatPromptTemplate([\n",
    "    (\"system\",conversation_sys_msg),\n",
    "    (\"human\" , \"{conversation_messages}\")])\n",
    "\n",
    "    chain = create_conversation | llm\n",
    "    response = chain.invoke({\"conversation_messages\":conversation_messages})\n",
    "    # print(response)\n",
    "\n",
    "\n",
    "    return {\"messages\":[response]}"
   ]
  },
  {
   "cell_type": "markdown",
   "id": "49acd51f",
   "metadata": {},
   "source": [
    "## Adding nodes and edged (connecting nodes)"
   ]
  },
  {
   "cell_type": "code",
   "execution_count": 26,
   "id": "b48edb0c",
   "metadata": {},
   "outputs": [],
   "source": [
    "from langgraph.graph import END,START,StateGraph\n",
    "from langgraph.checkpoint.memory import MemorySaver\n",
    "\n",
    "checkpointer = MemorySaver()\n",
    "workflow = StateGraph(State)\n",
    "\n",
    "# Add nodes\n",
    "workflow.add_node(\"summarize_qa\", summarize_qa)\n",
    "workflow.add_node(\"route_query\", route_query)\n",
    "workflow.add_node(\"generate_audio\", generate_audio)\n",
    "\n",
    "# Add edges\n",
    "workflow.set_entry_point(\"summarize_qa\")\n",
    "workflow.add_edge(\"summarize_qa\", \"route_query\")\n",
    "workflow.add_conditional_edges(\n",
    "    \"route_query\", \n",
    "    lambda state: state.get(\"decision\",\"stop\"),\n",
    "    {\n",
    "        \"generate_audio\": \"generate_audio\",\n",
    "        \"stop\": END\n",
    "    }\n",
    ")\n",
    "\n",
    "# workflow.add_conditional_edges(\n",
    "#     \"route_query\",  # this is the node name\n",
    "#     path=chain_router,  # this is the LLM Runnable used for routing\n",
    "#     path_map={\n",
    "#         \"generate_audio\": \"generate_audio\",\n",
    "#         \"end\": END\n",
    "#     }\n",
    "# )\n",
    "\n",
    "workflow.add_edge(\"generate_audio\", END)\n",
    "\n",
    "app = workflow.compile(checkpointer=checkpointer)\n"
   ]
  },
  {
   "cell_type": "code",
   "execution_count": 27,
   "id": "e0c0a1ac",
   "metadata": {},
   "outputs": [
    {
     "data": {
      "image/png": "[encoded data removed]",
      "text/plain": [
       "<IPython.core.display.Image object>"
      ]
     },
     "metadata": {},
     "output_type": "display_data"
    }
   ],
   "source": [
    "from IPython.display import Image, display\n",
    "\n",
    "try:\n",
    "    display(Image(app.get_graph().draw_mermaid_png()))\n",
    "except Exception:\n",
    "    # This requires some extra dependencies and is optional\n",
    "    pass"
   ]
  },
  {
   "cell_type": "code",
   "execution_count": 31,
   "id": "9368e331",
   "metadata": {},
   "outputs": [
    {
     "name": "stdout",
     "output_type": "stream",
     "text": [
      "e76555aa-132a-42da-834b-c148e08287c1\n"
     ]
    }
   ],
   "source": [
    "# Create a Unique Id for each user conversation\n",
    "import uuid\n",
    "thread_id = uuid.uuid4()\n",
    "print(thread_id)\n",
    "config = {\"configurable\": {\"thread_id\": thread_id}}"
   ]
  },
  {
   "cell_type": "code",
   "execution_count": 32,
   "id": "b976be54",
   "metadata": {},
   "outputs": [
    {
     "name": "stdout",
     "output_type": "stream",
     "text": [
      "```json\n",
      "{\n",
      "    \"query\": \"\",\n",
      "    \"filter\": \"NO_FILTER\"\n",
      "}\n",
      "```"
     ]
    },
    {
     "name": "stderr",
     "output_type": "stream",
     "text": [
      "c:\\Users\\Prabal Kuinkel\\Desktop\\AI_Projects\\Youtube-Conversational_AI\\youtube_conver_ai\\Lib\\site-packages\\torch\\nn\\modules\\module.py:1762: FutureWarning: `encoder_attention_mask` is deprecated and will be removed in version 4.55.0 for `XLMRobertaSdpaSelfAttention.forward`.\n",
      "  return forward_call(*args, **kwargs)\n"
     ]
    },
    {
     "name": "stdout",
     "output_type": "stream",
     "text": [
      "So, you want to know what this video is about? Well, from what I've gathered, it's about the Royal Massacre, also known as the Darbar massacre, which took place at the Narayanhiti Palace in Nepal. The video seems to be discussing the events leading up to the massacre and the investigation that followed.\n",
      "\n",
      "It starts by setting the scene, describing the palace and the buildings where the massacre took place, including the billiard hall where Crown Prince Dipendra was playing snooker before the incident. The video then delves into the details of what happened on that night, including the prince's actions and the subsequent investigation.\n",
      "\n",
      "The video also touches on the report submitted by the Probe Committee, which is 139 pages long, and discusses the findings and allegations made against Crown Prince Dipendra. It seems that the video is trying to provide a detailed account of the events and separate fact from fiction, as there are some discrepancies and baseless allegations surrounding the incident.\n",
      "\n",
      "One of the main points being made is that Crown Prince Dipendra did not commit the massacre under the influence of intoxicants, as some people have alleged. The video cites scientific evidence, including tests for saliva and nicotine, to support this claim.\n",
      "\n",
      "Overall, the video appears to be a detailed and factual account of the Royal Massacre, aiming to provide a clear understanding of what happened and to dispel any misconceptions or false allegations surrounding the incident."
     ]
    }
   ],
   "source": [
    "from langchain_core.messages import HumanMessage\n",
    "\n",
    "# result = app.invoke({\n",
    "#     'messages': [HumanMessage(content='can you provide me audio ?')]\n",
    "# }, config=config)\n",
    "\n",
    "for message_chunk , metadata in app.stream({\n",
    "    'messages': [HumanMessage(content='what is this video about ?')]\n",
    "}, config=config,stream_mode=\"messages\"\n",
    "):\n",
    "    if message_chunk.content:\n",
    "        print(message_chunk.content ,end =\"\",flush=True)"
   ]
  }
 ],
 "metadata": {
  "kernelspec": {
   "display_name": "youtube_conver_ai",
   "language": "python",
   "name": "python3"
  },
  "language_info": {
   "codemirror_mode": {
    "name": "ipython",
    "version": 3
   },
   "file_extension": ".py",
   "mimetype": "text/x-python",
   "name": "python",
   "nbconvert_exporter": "python",
   "pygments_lexer": "ipython3",
   "version": "3.11.7"
  }
 },
 "nbformat": 4,
 "nbformat_minor": 5
}
